{
 "cells": [
  {
   "cell_type": "code",
   "execution_count": 1,
   "metadata": {},
   "outputs": [],
   "source": [
    "import sys\n",
    "sys.path.remove('/home/sentic/.local/lib/python3.6/site-packages')\n",
    "\n",
    "import torch\n",
    "# torch.backends.cudnn.benchmark=True\n",
    "\n",
    "torch.cuda.set_enabled_lms(True)\n",
    "torch.cuda.set_size_lms(120009999)\n",
    "\n",
    "device_id = 0\n",
    "torch.cuda.set_device(device_id)\n",
    "\n",
    "#root = \"../train\"\n",
    "root = \"/home/sentic/MICCAI/data/train/\"\n",
    "use_gpu = True\n",
    "n_epochs = 200\n",
    "batch_size = 1\n",
    "use_amp = False\n",
    "import numpy as np\n",
    "import torch.nn as nn\n",
    "import torch.nn.functional as F\n",
    "from torch.autograd import Variable\n",
    "\n",
    "import torch.optim as optim\n",
    "import torch.optim.lr_scheduler as lr_scheduler\n",
    "from torch.optim.lr_scheduler import LambdaLR\n",
    "\n",
    "from torch.utils.data import DataLoader\n",
    "\n",
    "from model import LargeCascadedModel\n",
    "from dataset import BraTS\n",
    "from losses import DiceLoss\n",
    "from tqdm import tqdm_notebook, tqdm\n",
    "from learning_rate import GradualWarmupScheduler, PolyLR\n",
    "\n",
    "import pytorch_warmup as warmup"
   ]
  },
  {
   "cell_type": "code",
   "execution_count": 2,
   "metadata": {},
   "outputs": [],
   "source": [
    "path_resume = \"./checkpoints/checkpoint_188.pt\"\n",
    "checkpoint_optimizer = True\n",
    "model = LargeCascadedModel(inplanes_encoder_1=4, channels_encoder_1=16, num_classes_1=3,\n",
    "                           inplanes_encoder_2=7, channels_encoder_2=32, num_classes_2=3)\n",
    "\n",
    "if use_gpu:\n",
    "    model = model.to(\"cuda\")\n",
    "\n",
    "start_lr = 1e-4\n",
    "optimizer = optim.Adam(list(filter(lambda p: p.requires_grad, model.parameters())), lr=start_lr, weight_decay=1e-5)\n",
    "scheduler = PolyLR(optimizer, max_decay_steps=n_epochs, end_learning_rate=1e-8, power=0.9)\n",
    "\n",
    "if path_resume is not None:\n",
    "    dict_state = torch.load(path_resume)\n",
    "    model.load_state_dict(dict_state['state_dict'])\n",
    "    if checkpoint_optimizer:\n",
    "        optimizer.load_state_dict(dict_state['optimizer'])\n",
    "        last_epoch = dict_state['epoch']\n",
    "    else:\n",
    "        last_epoch = 0\n",
    "else:\n",
    "    last_epoch = 0\n",
    "#scheduler = lr_scheduler.StepLR(optimizer, step_size=1, gamma=0.85)\n",
    "\n",
    "\n",
    "# warm_up = GradualWarmupScheduler(optimizer, multiplier=2, total_epoch=5, after_scheduler=scheduler)\n",
    "# warm_up = warmup.LinearWarmup(optimizer, warmup_period=369*5)\n",
    "\n",
    "BraTSDataset = BraTS(root=root, phase=\"train\", desired_depth=128, desired_height=240, desired_width=240, \n",
    "                     normalize_flag=True, scale_intensity_flag=True, shift_intesity_flag=True, flip_axes_flag=True)\n",
    "dataloader = DataLoader(BraTSDataset, batch_size=batch_size, shuffle=True)\n",
    "\n",
    "diceLoss = DiceLoss()"
   ]
  },
  {
   "cell_type": "code",
   "execution_count": null,
   "metadata": {
    "scrolled": true
   },
   "outputs": [
    {
     "name": "stderr",
     "output_type": "stream",
     "text": [
      "\r",
      "0it [00:00, ?it/s]"
     ]
    },
    {
     "name": "stdout",
     "output_type": "stream",
     "text": [
      "Learning rate = 7.958637544298869e-06\n",
      "P: ('BraTS20_Training_148',) DC R1: 0.8937, DC R2: 0.9039, DC R3: 0.9132, DC C: 0.6045\n"
     ]
    },
    {
     "name": "stderr",
     "output_type": "stream",
     "text": [
      "\r",
      "1it [00:22, 22.53s/it]"
     ]
    },
    {
     "name": "stdout",
     "output_type": "stream",
     "text": [
      "P: ('BraTS20_Training_239',) DC R1: 0.9209, DC R2: 0.9287, DC R3: 0.944, DC C: 0.7322\n"
     ]
    },
    {
     "name": "stderr",
     "output_type": "stream",
     "text": [
      "\r",
      "2it [00:42, 21.63s/it]"
     ]
    },
    {
     "name": "stdout",
     "output_type": "stream",
     "text": [
      "P: ('BraTS20_Training_209',) DC R1: 0.9478, DC R2: 0.9473, DC R3: 0.9525, DC C: 0.7093\n"
     ]
    },
    {
     "name": "stderr",
     "output_type": "stream",
     "text": [
      "\r",
      "3it [01:01, 21.09s/it]"
     ]
    },
    {
     "name": "stdout",
     "output_type": "stream",
     "text": [
      "P: ('BraTS20_Training_127',) DC R1: 0.9752, DC R2: 0.9772, DC R3: 0.9824, DC C: 0.8533\n"
     ]
    },
    {
     "name": "stderr",
     "output_type": "stream",
     "text": [
      "\r",
      "4it [01:21, 20.71s/it]"
     ]
    },
    {
     "name": "stdout",
     "output_type": "stream",
     "text": [
      "P: ('BraTS20_Training_088',) DC R1: 0.9153, DC R2: 0.921, DC R3: 0.9262, DC C: 0.6622\n"
     ]
    },
    {
     "name": "stderr",
     "output_type": "stream",
     "text": [
      "\r",
      "5it [01:41, 20.50s/it]"
     ]
    },
    {
     "name": "stdout",
     "output_type": "stream",
     "text": [
      "P: ('BraTS20_Training_124',) DC R1: 0.9699, DC R2: 0.9721, DC R3: 0.9775, DC C: 0.7905\n"
     ]
    },
    {
     "name": "stderr",
     "output_type": "stream",
     "text": [
      "\r",
      "6it [02:01, 20.29s/it]"
     ]
    },
    {
     "name": "stdout",
     "output_type": "stream",
     "text": [
      "P: ('BraTS20_Training_210',) DC R1: 0.9646, DC R2: 0.9672, DC R3: 0.9669, DC C: 0.6851\n"
     ]
    },
    {
     "name": "stderr",
     "output_type": "stream",
     "text": [
      "\r",
      "7it [02:21, 20.16s/it]"
     ]
    },
    {
     "name": "stdout",
     "output_type": "stream",
     "text": [
      "P: ('BraTS20_Training_035',) DC R1: 0.8949, DC R2: 0.9024, DC R3: 0.9138, DC C: 0.6325\n"
     ]
    },
    {
     "name": "stderr",
     "output_type": "stream",
     "text": [
      "\r",
      "8it [02:41, 20.06s/it]"
     ]
    },
    {
     "name": "stdout",
     "output_type": "stream",
     "text": [
      "P: ('BraTS20_Training_134',) DC R1: 0.9065, DC R2: 0.9114, DC R3: 0.9221, DC C: 0.6753\n"
     ]
    },
    {
     "name": "stderr",
     "output_type": "stream",
     "text": [
      "\r",
      "9it [03:01, 20.02s/it]"
     ]
    },
    {
     "name": "stdout",
     "output_type": "stream",
     "text": [
      "P: ('BraTS20_Training_016',) DC R1: 0.8825, DC R2: 0.8837, DC R3: 0.8905, DC C: 0.5291\n"
     ]
    },
    {
     "name": "stderr",
     "output_type": "stream",
     "text": [
      "\r",
      "10it [03:21, 19.99s/it]"
     ]
    },
    {
     "name": "stdout",
     "output_type": "stream",
     "text": [
      "P: ('BraTS20_Training_105',) DC R1: 0.9587, DC R2: 0.9617, DC R3: 0.9676, DC C: 0.8138\n"
     ]
    },
    {
     "name": "stderr",
     "output_type": "stream",
     "text": [
      "\r",
      "11it [03:40, 19.91s/it]"
     ]
    },
    {
     "name": "stdout",
     "output_type": "stream",
     "text": [
      "P: ('BraTS20_Training_106',) DC R1: 0.9544, DC R2: 0.9582, DC R3: 0.9647, DC C: 0.7648\n"
     ]
    },
    {
     "name": "stderr",
     "output_type": "stream",
     "text": [
      "\r",
      "12it [04:00, 19.88s/it]"
     ]
    },
    {
     "name": "stdout",
     "output_type": "stream",
     "text": [
      "P: ('BraTS20_Training_179',) DC R1: 0.952, DC R2: 0.9579, DC R3: 0.9703, DC C: 0.6881\n"
     ]
    },
    {
     "name": "stderr",
     "output_type": "stream",
     "text": [
      "\r",
      "13it [04:20, 19.84s/it]"
     ]
    },
    {
     "name": "stdout",
     "output_type": "stream",
     "text": [
      "P: ('BraTS20_Training_031',) DC R1: 0.9278, DC R2: 0.93, DC R3: 0.9343, DC C: 0.7021\n"
     ]
    },
    {
     "name": "stderr",
     "output_type": "stream",
     "text": [
      "\r",
      "14it [04:40, 19.86s/it]"
     ]
    },
    {
     "name": "stdout",
     "output_type": "stream",
     "text": [
      "P: ('BraTS20_Training_232',) DC R1: 0.9026, DC R2: 0.9068, DC R3: 0.9173, DC C: 0.689\n"
     ]
    },
    {
     "name": "stderr",
     "output_type": "stream",
     "text": [
      "\r",
      "15it [05:00, 19.90s/it]"
     ]
    },
    {
     "name": "stdout",
     "output_type": "stream",
     "text": [
      "P: ('BraTS20_Training_158',) DC R1: 0.9137, DC R2: 0.9179, DC R3: 0.9344, DC C: 0.7704\n"
     ]
    },
    {
     "name": "stderr",
     "output_type": "stream",
     "text": [
      "\r",
      "16it [05:20, 19.89s/it]"
     ]
    },
    {
     "name": "stdout",
     "output_type": "stream",
     "text": [
      "P: ('BraTS20_Training_348',) DC R1: 0.9597, DC R2: 0.9624, DC R3: 0.9658, DC C: 0.7667\n"
     ]
    },
    {
     "name": "stderr",
     "output_type": "stream",
     "text": [
      "\r",
      "17it [05:40, 20.00s/it]"
     ]
    },
    {
     "name": "stdout",
     "output_type": "stream",
     "text": [
      "P: ('BraTS20_Training_191',) DC R1: 0.9608, DC R2: 0.962, DC R3: 0.9653, DC C: 0.7179\n"
     ]
    },
    {
     "name": "stderr",
     "output_type": "stream",
     "text": [
      "\r",
      "18it [06:00, 19.93s/it]"
     ]
    },
    {
     "name": "stdout",
     "output_type": "stream",
     "text": [
      "P: ('BraTS20_Training_001',) DC R1: 0.9427, DC R2: 0.9461, DC R3: 0.9481, DC C: 0.6689\n"
     ]
    },
    {
     "name": "stderr",
     "output_type": "stream",
     "text": [
      "\r",
      "19it [06:19, 19.85s/it]"
     ]
    },
    {
     "name": "stdout",
     "output_type": "stream",
     "text": [
      "P: ('BraTS20_Training_023',) DC R1: 0.9411, DC R2: 0.9439, DC R3: 0.9491, DC C: 0.7591\n"
     ]
    },
    {
     "name": "stderr",
     "output_type": "stream",
     "text": [
      "\r",
      "20it [06:39, 19.78s/it]"
     ]
    },
    {
     "name": "stdout",
     "output_type": "stream",
     "text": [
      "P: ('BraTS20_Training_298',) DC R1: 0.7843, DC R2: 0.7939, DC R3: 0.8244, DC C: 0.5771\n"
     ]
    },
    {
     "name": "stderr",
     "output_type": "stream",
     "text": [
      "\r",
      "21it [06:59, 19.83s/it]"
     ]
    },
    {
     "name": "stdout",
     "output_type": "stream",
     "text": [
      "P: ('BraTS20_Training_081',) DC R1: 0.9062, DC R2: 0.904, DC R3: 0.9211, DC C: 0.6702\n"
     ]
    },
    {
     "name": "stderr",
     "output_type": "stream",
     "text": [
      "\r",
      "22it [07:19, 19.86s/it]"
     ]
    },
    {
     "name": "stdout",
     "output_type": "stream",
     "text": [
      "P: ('BraTS20_Training_111',) DC R1: 0.955, DC R2: 0.957, DC R3: 0.965, DC C: 0.7746\n"
     ]
    },
    {
     "name": "stderr",
     "output_type": "stream",
     "text": [
      "\r",
      "23it [07:39, 19.93s/it]"
     ]
    },
    {
     "name": "stdout",
     "output_type": "stream",
     "text": [
      "P: ('BraTS20_Training_048',) DC R1: 0.8866, DC R2: 0.8891, DC R3: 0.9047, DC C: 0.7253\n"
     ]
    },
    {
     "name": "stderr",
     "output_type": "stream",
     "text": [
      "\r",
      "24it [07:59, 19.90s/it]"
     ]
    },
    {
     "name": "stdout",
     "output_type": "stream",
     "text": [
      "P: ('BraTS20_Training_357',) DC R1: 0.9353, DC R2: 0.9384, DC R3: 0.9515, DC C: 0.7448\n"
     ]
    },
    {
     "name": "stderr",
     "output_type": "stream",
     "text": [
      "\r",
      "25it [08:18, 19.82s/it]"
     ]
    },
    {
     "name": "stdout",
     "output_type": "stream",
     "text": [
      "P: ('BraTS20_Training_024',) DC R1: 0.9169, DC R2: 0.9186, DC R3: 0.9282, DC C: 0.611\n"
     ]
    },
    {
     "name": "stderr",
     "output_type": "stream",
     "text": [
      "\r",
      "26it [08:38, 19.89s/it]"
     ]
    },
    {
     "name": "stdout",
     "output_type": "stream",
     "text": [
      "P: ('BraTS20_Training_245',) DC R1: 0.9265, DC R2: 0.9326, DC R3: 0.9312, DC C: 0.5452\n"
     ]
    },
    {
     "name": "stderr",
     "output_type": "stream",
     "text": [
      "\r",
      "27it [08:58, 19.86s/it]"
     ]
    },
    {
     "name": "stdout",
     "output_type": "stream",
     "text": [
      "P: ('BraTS20_Training_334',) DC R1: 0.9516, DC R2: 0.9566, DC R3: 0.9642, DC C: 0.7073\n"
     ]
    },
    {
     "name": "stderr",
     "output_type": "stream",
     "text": [
      "\r",
      "28it [09:18, 19.89s/it]"
     ]
    },
    {
     "name": "stdout",
     "output_type": "stream",
     "text": [
      "P: ('BraTS20_Training_208',) DC R1: 0.9423, DC R2: 0.9437, DC R3: 0.9491, DC C: 0.6926\n"
     ]
    },
    {
     "name": "stderr",
     "output_type": "stream",
     "text": [
      "\r",
      "29it [09:38, 19.91s/it]"
     ]
    },
    {
     "name": "stdout",
     "output_type": "stream",
     "text": [
      "P: ('BraTS20_Training_142',) DC R1: 0.954, DC R2: 0.9578, DC R3: 0.9633, DC C: 0.7661\n"
     ]
    },
    {
     "name": "stderr",
     "output_type": "stream",
     "text": [
      "\r",
      "30it [09:58, 19.90s/it]"
     ]
    },
    {
     "name": "stdout",
     "output_type": "stream",
     "text": [
      "P: ('BraTS20_Training_333',) DC R1: 0.9113, DC R2: 0.9145, DC R3: 0.9297, DC C: 0.6232\n"
     ]
    },
    {
     "name": "stderr",
     "output_type": "stream",
     "text": [
      "\r",
      "31it [10:18, 19.97s/it]"
     ]
    },
    {
     "name": "stdout",
     "output_type": "stream",
     "text": [
      "P: ('BraTS20_Training_229',) DC R1: 0.9689, DC R2: 0.9715, DC R3: 0.9742, DC C: 0.7469\n"
     ]
    },
    {
     "name": "stderr",
     "output_type": "stream",
     "text": [
      "\r",
      "32it [10:38, 19.87s/it]"
     ]
    },
    {
     "name": "stdout",
     "output_type": "stream",
     "text": [
      "P: ('BraTS20_Training_100',) DC R1: 0.9546, DC R2: 0.9587, DC R3: 0.9653, DC C: 0.7784\n"
     ]
    },
    {
     "name": "stderr",
     "output_type": "stream",
     "text": [
      "\r",
      "33it [10:58, 19.84s/it]"
     ]
    },
    {
     "name": "stdout",
     "output_type": "stream",
     "text": [
      "P: ('BraTS20_Training_246',) DC R1: 0.9499, DC R2: 0.9538, DC R3: 0.961, DC C: 0.679\n"
     ]
    },
    {
     "name": "stderr",
     "output_type": "stream",
     "text": [
      "\r",
      "34it [11:17, 19.79s/it]"
     ]
    },
    {
     "name": "stdout",
     "output_type": "stream",
     "text": [
      "P: ('BraTS20_Training_013',) DC R1: 0.8778, DC R2: 0.88, DC R3: 0.8978, DC C: 0.7053\n"
     ]
    },
    {
     "name": "stderr",
     "output_type": "stream",
     "text": [
      "\r",
      "35it [11:37, 19.82s/it]"
     ]
    },
    {
     "name": "stdout",
     "output_type": "stream",
     "text": [
      "P: ('BraTS20_Training_278',) DC R1: 0.6203, DC R2: 0.6299, DC R3: 0.634, DC C: 0.4038\n"
     ]
    },
    {
     "name": "stderr",
     "output_type": "stream",
     "text": [
      "\r",
      "36it [11:57, 19.75s/it]"
     ]
    },
    {
     "name": "stdout",
     "output_type": "stream",
     "text": [
      "P: ('BraTS20_Training_007',) DC R1: 0.9271, DC R2: 0.9306, DC R3: 0.9363, DC C: 0.7172\n"
     ]
    },
    {
     "name": "stderr",
     "output_type": "stream",
     "text": [
      "\r",
      "37it [12:16, 19.76s/it]"
     ]
    },
    {
     "name": "stdout",
     "output_type": "stream",
     "text": [
      "P: ('BraTS20_Training_093',) DC R1: 0.972, DC R2: 0.9738, DC R3: 0.979, DC C: 0.8088\n"
     ]
    },
    {
     "name": "stderr",
     "output_type": "stream",
     "text": [
      "\r",
      "38it [12:36, 19.82s/it]"
     ]
    },
    {
     "name": "stdout",
     "output_type": "stream",
     "text": [
      "P: ('BraTS20_Training_129',) DC R1: 0.8892, DC R2: 0.8938, DC R3: 0.8961, DC C: 0.6863\n"
     ]
    },
    {
     "name": "stderr",
     "output_type": "stream",
     "text": [
      "\r",
      "39it [12:56, 19.90s/it]"
     ]
    },
    {
     "name": "stdout",
     "output_type": "stream",
     "text": [
      "P: ('BraTS20_Training_349',) DC R1: 0.9624, DC R2: 0.9656, DC R3: 0.9692, DC C: 0.7353\n"
     ]
    },
    {
     "name": "stderr",
     "output_type": "stream",
     "text": [
      "\r",
      "40it [13:16, 19.88s/it]"
     ]
    },
    {
     "name": "stdout",
     "output_type": "stream",
     "text": [
      "P: ('BraTS20_Training_097',) DC R1: 0.9582, DC R2: 0.9602, DC R3: 0.9689, DC C: 0.7825\n"
     ]
    },
    {
     "name": "stderr",
     "output_type": "stream",
     "text": [
      "\r",
      "41it [13:36, 19.86s/it]"
     ]
    },
    {
     "name": "stdout",
     "output_type": "stream",
     "text": [
      "P: ('BraTS20_Training_082',) DC R1: 0.8921, DC R2: 0.9003, DC R3: 0.9135, DC C: 0.6984\n"
     ]
    },
    {
     "name": "stderr",
     "output_type": "stream",
     "text": [
      "\r",
      "42it [13:56, 19.88s/it]"
     ]
    },
    {
     "name": "stdout",
     "output_type": "stream",
     "text": [
      "P: ('BraTS20_Training_202',) DC R1: 0.9643, DC R2: 0.9652, DC R3: 0.9652, DC C: 0.7189\n"
     ]
    },
    {
     "name": "stderr",
     "output_type": "stream",
     "text": [
      "\r",
      "43it [14:16, 19.86s/it]"
     ]
    },
    {
     "name": "stdout",
     "output_type": "stream",
     "text": [
      "P: ('BraTS20_Training_014',) DC R1: 0.9143, DC R2: 0.9174, DC R3: 0.9208, DC C: 0.6527\n"
     ]
    },
    {
     "name": "stderr",
     "output_type": "stream",
     "text": [
      "\r",
      "44it [14:36, 19.95s/it]"
     ]
    },
    {
     "name": "stdout",
     "output_type": "stream",
     "text": [
      "P: ('BraTS20_Training_259',) DC R1: 0.9426, DC R2: 0.9498, DC R3: 0.9582, DC C: 0.7176\n"
     ]
    },
    {
     "name": "stderr",
     "output_type": "stream",
     "text": [
      "\r",
      "45it [14:56, 19.86s/it]"
     ]
    },
    {
     "name": "stdout",
     "output_type": "stream",
     "text": [
      "P: ('BraTS20_Training_292',) DC R1: 0.9025, DC R2: 0.9053, DC R3: 0.9222, DC C: 0.6504\n"
     ]
    },
    {
     "name": "stderr",
     "output_type": "stream",
     "text": [
      "\r",
      "46it [15:15, 19.80s/it]"
     ]
    },
    {
     "name": "stdout",
     "output_type": "stream",
     "text": [
      "P: ('BraTS20_Training_270',) DC R1: 0.9763, DC R2: 0.9783, DC R3: 0.9831, DC C: 0.8296\n"
     ]
    },
    {
     "name": "stderr",
     "output_type": "stream",
     "text": [
      "\r",
      "47it [15:35, 19.73s/it]"
     ]
    },
    {
     "name": "stdout",
     "output_type": "stream",
     "text": [
      "P: ('BraTS20_Training_019',) DC R1: 0.9147, DC R2: 0.9167, DC R3: 0.921, DC C: 0.6752\n"
     ]
    },
    {
     "name": "stderr",
     "output_type": "stream",
     "text": [
      "\r",
      "48it [15:55, 19.71s/it]"
     ]
    },
    {
     "name": "stdout",
     "output_type": "stream",
     "text": [
      "P: ('BraTS20_Training_066',) DC R1: 0.918, DC R2: 0.9221, DC R3: 0.9274, DC C: 0.7267\n"
     ]
    },
    {
     "name": "stderr",
     "output_type": "stream",
     "text": [
      "\r",
      "49it [16:15, 19.79s/it]"
     ]
    },
    {
     "name": "stdout",
     "output_type": "stream",
     "text": [
      "P: ('BraTS20_Training_050',) DC R1: 0.9394, DC R2: 0.9424, DC R3: 0.9481, DC C: 0.7215\n"
     ]
    },
    {
     "name": "stderr",
     "output_type": "stream",
     "text": [
      "\r",
      "50it [16:35, 19.86s/it]"
     ]
    },
    {
     "name": "stdout",
     "output_type": "stream",
     "text": [
      "P: ('BraTS20_Training_045',) DC R1: 0.9476, DC R2: 0.9489, DC R3: 0.9532, DC C: 0.7169\n"
     ]
    },
    {
     "name": "stderr",
     "output_type": "stream",
     "text": [
      "\r",
      "51it [16:54, 19.82s/it]"
     ]
    },
    {
     "name": "stdout",
     "output_type": "stream",
     "text": [
      "P: ('BraTS20_Training_315',) DC R1: 0.9439, DC R2: 0.9475, DC R3: 0.9688, DC C: 0.8073\n"
     ]
    },
    {
     "name": "stderr",
     "output_type": "stream",
     "text": [
      "\r",
      "52it [17:14, 19.87s/it]"
     ]
    },
    {
     "name": "stdout",
     "output_type": "stream",
     "text": [
      "P: ('BraTS20_Training_146',) DC R1: 0.9383, DC R2: 0.9406, DC R3: 0.9456, DC C: 0.6398\n"
     ]
    },
    {
     "name": "stderr",
     "output_type": "stream",
     "text": [
      "\r",
      "53it [17:34, 19.82s/it]"
     ]
    },
    {
     "name": "stdout",
     "output_type": "stream",
     "text": [
      "P: ('BraTS20_Training_300',) DC R1: 0.9339, DC R2: 0.938, DC R3: 0.9469, DC C: 0.6761\n"
     ]
    },
    {
     "name": "stderr",
     "output_type": "stream",
     "text": [
      "\r",
      "54it [17:54, 19.77s/it]"
     ]
    },
    {
     "name": "stdout",
     "output_type": "stream",
     "text": [
      "P: ('BraTS20_Training_157',) DC R1: 0.9632, DC R2: 0.9662, DC R3: 0.9757, DC C: 0.7982\n"
     ]
    },
    {
     "name": "stderr",
     "output_type": "stream",
     "text": [
      "\r",
      "55it [18:14, 19.83s/it]"
     ]
    },
    {
     "name": "stdout",
     "output_type": "stream",
     "text": [
      "P: ('BraTS20_Training_118',) DC R1: 0.9645, DC R2: 0.9675, DC R3: 0.9734, DC C: 0.8161\n"
     ]
    },
    {
     "name": "stderr",
     "output_type": "stream",
     "text": [
      "\r",
      "56it [18:34, 19.92s/it]"
     ]
    },
    {
     "name": "stdout",
     "output_type": "stream",
     "text": [
      "P: ('BraTS20_Training_055',) DC R1: 0.9475, DC R2: 0.9491, DC R3: 0.9533, DC C: 0.7455\n"
     ]
    },
    {
     "name": "stderr",
     "output_type": "stream",
     "text": [
      "\r",
      "57it [18:54, 19.98s/it]"
     ]
    },
    {
     "name": "stdout",
     "output_type": "stream",
     "text": [
      "P: ('BraTS20_Training_342',) DC R1: 0.9433, DC R2: 0.9466, DC R3: 0.9564, DC C: 0.6943\n"
     ]
    },
    {
     "name": "stderr",
     "output_type": "stream",
     "text": [
      "\r",
      "58it [19:14, 20.07s/it]"
     ]
    },
    {
     "name": "stdout",
     "output_type": "stream",
     "text": [
      "P: ('BraTS20_Training_369',) DC R1: 0.9684, DC R2: 0.9699, DC R3: 0.9748, DC C: 0.7981\n"
     ]
    },
    {
     "name": "stderr",
     "output_type": "stream",
     "text": [
      "\r",
      "59it [19:35, 20.20s/it]"
     ]
    },
    {
     "name": "stdout",
     "output_type": "stream",
     "text": [
      "P: ('BraTS20_Training_231',) DC R1: 0.9648, DC R2: 0.9669, DC R3: 0.9688, DC C: 0.698\n"
     ]
    },
    {
     "name": "stderr",
     "output_type": "stream",
     "text": [
      "\r",
      "60it [19:54, 20.05s/it]"
     ]
    },
    {
     "name": "stdout",
     "output_type": "stream",
     "text": [
      "P: ('BraTS20_Training_197',) DC R1: 0.9471, DC R2: 0.949, DC R3: 0.9532, DC C: 0.6099\n"
     ]
    },
    {
     "name": "stderr",
     "output_type": "stream",
     "text": [
      "\r",
      "61it [20:14, 19.95s/it]"
     ]
    },
    {
     "name": "stdout",
     "output_type": "stream",
     "text": [
      "P: ('BraTS20_Training_162',) DC R1: 0.9691, DC R2: 0.9711, DC R3: 0.9733, DC C: 0.7504\n"
     ]
    },
    {
     "name": "stderr",
     "output_type": "stream",
     "text": [
      "\r",
      "62it [20:34, 19.84s/it]"
     ]
    },
    {
     "name": "stdout",
     "output_type": "stream",
     "text": [
      "P: ('BraTS20_Training_033',) DC R1: 0.9532, DC R2: 0.9545, DC R3: 0.957, DC C: 0.7346\n"
     ]
    },
    {
     "name": "stderr",
     "output_type": "stream",
     "text": [
      "\r",
      "63it [20:53, 19.77s/it]"
     ]
    },
    {
     "name": "stdout",
     "output_type": "stream",
     "text": [
      "P: ('BraTS20_Training_295',) DC R1: 0.7747, DC R2: 0.7781, DC R3: 0.7966, DC C: 0.5763\n"
     ]
    },
    {
     "name": "stderr",
     "output_type": "stream",
     "text": [
      "\r",
      "64it [21:13, 19.74s/it]"
     ]
    },
    {
     "name": "stdout",
     "output_type": "stream",
     "text": [
      "P: ('BraTS20_Training_275',) DC R1: 0.5625, DC R2: 0.5709, DC R3: 0.5806, DC C: 0.3339\n"
     ]
    },
    {
     "name": "stderr",
     "output_type": "stream",
     "text": [
      "\r",
      "65it [21:33, 19.69s/it]"
     ]
    },
    {
     "name": "stdout",
     "output_type": "stream",
     "text": [
      "P: ('BraTS20_Training_212',) DC R1: 0.9142, DC R2: 0.9205, DC R3: 0.9366, DC C: 0.6755\n"
     ]
    },
    {
     "name": "stderr",
     "output_type": "stream",
     "text": [
      "\r",
      "66it [21:52, 19.71s/it]"
     ]
    },
    {
     "name": "stdout",
     "output_type": "stream",
     "text": [
      "P: ('BraTS20_Training_240',) DC R1: 0.8991, DC R2: 0.9083, DC R3: 0.9197, DC C: 0.6208\n"
     ]
    },
    {
     "name": "stderr",
     "output_type": "stream",
     "text": [
      "\r",
      "67it [22:12, 19.76s/it]"
     ]
    },
    {
     "name": "stdout",
     "output_type": "stream",
     "text": [
      "P: ('BraTS20_Training_268',) DC R1: 0.5955, DC R2: 0.5983, DC R3: 0.5985, DC C: 0.3126\n"
     ]
    },
    {
     "name": "stderr",
     "output_type": "stream",
     "text": [
      "\r",
      "68it [22:32, 19.79s/it]"
     ]
    },
    {
     "name": "stdout",
     "output_type": "stream",
     "text": [
      "P: ('BraTS20_Training_364',) DC R1: 0.9534, DC R2: 0.9535, DC R3: 0.9624, DC C: 0.7746\n"
     ]
    },
    {
     "name": "stderr",
     "output_type": "stream",
     "text": [
      "\r",
      "69it [22:52, 19.93s/it]"
     ]
    },
    {
     "name": "stdout",
     "output_type": "stream",
     "text": [
      "P: ('BraTS20_Training_108',) DC R1: 0.9695, DC R2: 0.972, DC R3: 0.9775, DC C: 0.8377\n"
     ]
    },
    {
     "name": "stderr",
     "output_type": "stream",
     "text": [
      "\r",
      "70it [23:12, 19.89s/it]"
     ]
    },
    {
     "name": "stdout",
     "output_type": "stream",
     "text": [
      "P: ('BraTS20_Training_107',) DC R1: 0.9656, DC R2: 0.9678, DC R3: 0.9732, DC C: 0.8138\n"
     ]
    },
    {
     "name": "stderr",
     "output_type": "stream",
     "text": [
      "\r",
      "71it [23:32, 19.90s/it]"
     ]
    },
    {
     "name": "stdout",
     "output_type": "stream",
     "text": [
      "P: ('BraTS20_Training_308',) DC R1: 0.8836, DC R2: 0.8891, DC R3: 0.9014, DC C: 0.5912\n"
     ]
    },
    {
     "name": "stderr",
     "output_type": "stream",
     "text": [
      "\r",
      "72it [23:52, 19.82s/it]"
     ]
    },
    {
     "name": "stdout",
     "output_type": "stream",
     "text": [
      "P: ('BraTS20_Training_277',) DC R1: 0.9, DC R2: 0.9121, DC R3: 0.917, DC C: 0.69\n"
     ]
    },
    {
     "name": "stderr",
     "output_type": "stream",
     "text": [
      "\r",
      "73it [24:12, 19.87s/it]"
     ]
    },
    {
     "name": "stdout",
     "output_type": "stream",
     "text": [
      "P: ('BraTS20_Training_069',) DC R1: 0.9113, DC R2: 0.9153, DC R3: 0.9222, DC C: 0.7088\n"
     ]
    },
    {
     "name": "stderr",
     "output_type": "stream",
     "text": [
      "\r",
      "74it [24:31, 19.81s/it]"
     ]
    },
    {
     "name": "stdout",
     "output_type": "stream",
     "text": [
      "P: ('BraTS20_Training_073',) DC R1: 0.9298, DC R2: 0.9328, DC R3: 0.9382, DC C: 0.7403\n"
     ]
    },
    {
     "name": "stderr",
     "output_type": "stream",
     "text": [
      "\r",
      "75it [24:51, 19.80s/it]"
     ]
    },
    {
     "name": "stdout",
     "output_type": "stream",
     "text": [
      "P: ('BraTS20_Training_238',) DC R1: 0.9297, DC R2: 0.9357, DC R3: 0.9451, DC C: 0.6558\n"
     ]
    },
    {
     "name": "stderr",
     "output_type": "stream",
     "text": [
      "\r",
      "76it [25:11, 19.79s/it]"
     ]
    },
    {
     "name": "stdout",
     "output_type": "stream",
     "text": [
      "P: ('BraTS20_Training_227',) DC R1: 0.919, DC R2: 0.9272, DC R3: 0.9395, DC C: 0.7411\n"
     ]
    },
    {
     "name": "stderr",
     "output_type": "stream",
     "text": [
      "\r",
      "77it [25:31, 19.78s/it]"
     ]
    },
    {
     "name": "stdout",
     "output_type": "stream",
     "text": [
      "P: ('BraTS20_Training_041',) DC R1: 0.9173, DC R2: 0.9186, DC R3: 0.9261, DC C: 0.6875\n"
     ]
    },
    {
     "name": "stderr",
     "output_type": "stream",
     "text": [
      "\r",
      "78it [25:50, 19.80s/it]"
     ]
    },
    {
     "name": "stdout",
     "output_type": "stream",
     "text": [
      "P: ('BraTS20_Training_130',) DC R1: 0.9442, DC R2: 0.9477, DC R3: 0.9494, DC C: 0.676\n"
     ]
    },
    {
     "name": "stderr",
     "output_type": "stream",
     "text": [
      "\r",
      "79it [26:10, 19.79s/it]"
     ]
    },
    {
     "name": "stdout",
     "output_type": "stream",
     "text": [
      "P: ('BraTS20_Training_358',) DC R1: 0.9634, DC R2: 0.9668, DC R3: 0.9734, DC C: 0.8055\n"
     ]
    }
   ],
   "source": [
    "string = \"\"\n",
    "for epoch in range(n_epochs - last_epoch):\n",
    "    epoch_loss = 0\n",
    "    for param_group in optimizer.param_groups:\n",
    "        print(\"Learning rate =\", param_group['lr'])\n",
    "        break\n",
    "    for ix, loader in tqdm(enumerate(dataloader)):\n",
    "        volume, mask, contour, patient = loader\n",
    "        torch.cuda.empty_cache()\n",
    "        if use_gpu:\n",
    "            volume = volume.to(\"cuda\")\n",
    "            mask = mask.to(\"cuda\")\n",
    "            contour = contour.to(\"cuda\")\n",
    "            \n",
    "        \n",
    "        optimizer.zero_grad()\n",
    "        decoded_region1, decoded_region2, decoded_region3, decoded_contour = model(volume)\n",
    "        \n",
    "        loss_dice_region1 = diceLoss(decoded_region1, mask)\n",
    "        loss_dice_region2 = diceLoss(decoded_region2, mask)\n",
    "        loss_dice_region3 = diceLoss(decoded_region3, mask)\n",
    "        loss_dice_contour = diceLoss(decoded_contour, contour)\n",
    "        loss = loss_dice_region1 + loss_dice_region2 + loss_dice_region3 + loss_dice_contour\n",
    "        \n",
    "        with torch.no_grad():\n",
    "            string += \"P: {} DC R1: {}, DC R2: {}, DC R3: {},DC C: {}\".format(patient, - np.round(loss_dice_region1.item(), 4),\n",
    "                                                                              - np.round(loss_dice_region2.item(), 4),\n",
    "                                                                              - np.round(loss_dice_region3.item(), 4),\n",
    "                                                                               - np.round(loss_dice_contour.item(), 4))\n",
    "            print(\"P: {} DC R1: {}, DC R2: {}, DC R3: {}, DC C: {}\".format(patient, - np.round(loss_dice_region1.item(), 4),\n",
    "                                                                           - np.round(loss_dice_region2.item(), 4),\n",
    "                                                                           - np.round(loss_dice_region3.item(), 4),\n",
    "                                                                           - np.round(loss_dice_contour.item(), 4)))\n",
    "\n",
    "\n",
    "            string += \"\\n\"\n",
    "            \n",
    "        with torch.no_grad():\n",
    "            epoch_loss += loss_dice_region3.item()\n",
    "        \n",
    "        loss.backward()\n",
    "        optimizer.step()\n",
    "        \n",
    "        scheduler.step(step=(epoch + last_epoch))\n",
    "        # warm_up.dampen()\n",
    "        \n",
    "        \n",
    "        del volume\n",
    "        del mask\n",
    "        del contour\n",
    "        del decoded_region1\n",
    "        del decoded_region2\n",
    "        del decoded_region3\n",
    "        del decoded_contour\n",
    "        del loss\n",
    "        del loss_dice_region1\n",
    "        del loss_dice_region2\n",
    "        del loss_dice_region3\n",
    "        del loss_dice_contour\n",
    "          \n",
    "    epoch_loss = epoch_loss / (ix + 1)\n",
    "    string += \"Epoch {}: loss {}\".format(epoch, epoch_loss)\n",
    "    print(\"Epoch {}: loss {}\".format(epoch, epoch_loss))\n",
    "    for param_group in optimizer.param_groups:\n",
    "        print(\"Learning rate =\", param_group['lr'])\n",
    "        break\n",
    "    string += \"\\n\"\n",
    "    if epoch % 10 == 0 and epoch != 0:\n",
    "        with open(\"results.txt\", \"w\") as fhandle:\n",
    "            print(\"Logged the results\")\n",
    "            fhandle.write(string)\n",
    "    if (epoch + last_epoch) % 1 == 0 and epoch != 0:\n",
    "        path_checkpoint = \"/home/sentic/MICCAI/Madu/APPROACH_6/checkpoints/checkpoint_\" + str(epoch + last_epoch) + \".pt\"\n",
    "        dict_state = {'epoch': epoch + last_epoch,\n",
    "                     'state_dict': model.state_dict(),\n",
    "                     'optimizer': optimizer.state_dict()\n",
    "                     }\n",
    "        print(path_checkpoint)\n",
    "        torch.save(dict_state, path_checkpoint)"
   ]
  },
  {
   "cell_type": "code",
   "execution_count": null,
   "metadata": {},
   "outputs": [],
   "source": [
    "# path_checkpoint = \"/home/sentic/MICCAI/Madu/APPROACH_6/checkpoints/checkpoint_\" + str(42) + \".pt\"\n",
    "# dict_state = {'epoch': 42,\n",
    "#              'state_dict': model.state_dict(),\n",
    "#              'optimizer': optimizer.state_dict()\n",
    "#              }\n",
    "# print(path_checkpoint)\n",
    "# torch.save(dict_state, path_checkpoint)"
   ]
  },
  {
   "cell_type": "code",
   "execution_count": null,
   "metadata": {},
   "outputs": [],
   "source": [
    "for param_group in optimizer.param_groups:\n",
    "    print(\"Learning rate =\", param_group['lr'])\n",
    "    break"
   ]
  },
  {
   "cell_type": "code",
   "execution_count": null,
   "metadata": {},
   "outputs": [],
   "source": []
  },
  {
   "cell_type": "code",
   "execution_count": null,
   "metadata": {},
   "outputs": [],
   "source": []
  }
 ],
 "metadata": {
  "kernelspec": {
   "display_name": "Python 3",
   "language": "python",
   "name": "python3"
  },
  "language_info": {
   "codemirror_mode": {
    "name": "ipython",
    "version": 3
   },
   "file_extension": ".py",
   "mimetype": "text/x-python",
   "name": "python",
   "nbconvert_exporter": "python",
   "pygments_lexer": "ipython3",
   "version": "3.6.10"
  }
 },
 "nbformat": 4,
 "nbformat_minor": 4
}
