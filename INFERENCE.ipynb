{
 "cells": [
  {
   "cell_type": "code",
   "execution_count": 1,
   "metadata": {},
   "outputs": [],
   "source": [
    "import sys\n",
    "import numpy as np\n",
    "sys.path.remove('/home/sentic/.local/lib/python3.6/site-packages')\n",
    "\n",
    "import torch\n",
    "torch.backends.cudnn.benchmark=True\n",
    "\n",
    "device_id = 1\n",
    "torch.cuda.set_device(device_id)\n",
    "\n",
    "root = \"/home/sentic/MICCAI/data/val/\"\n",
    "use_gpu = True\n",
    "n_epochs = 300\n",
    "batch_size = 1\n",
    "use_amp = False\n",
    "import torch.nn as nn\n",
    "import torch.nn.functional as F\n",
    "from torch.autograd import Variable\n",
    "\n",
    "import torch.optim as optim\n",
    "import torch.optim.lr_scheduler as lr_scheduler\n",
    "from torch.optim.lr_scheduler import LambdaLR\n",
    "\n",
    "from torch.utils.data import DataLoader\n",
    "\n",
    "from model import LargeCascadedModel\n",
    "from dataset import BraTS\n",
    "from losses import DiceLoss, DiceLossLoss\n",
    "from tqdm import tqdm_notebook, tqdm\n",
    "path = \"./checkpoints/checkpoint_80.pt\""
   ]
  },
  {
   "cell_type": "code",
   "execution_count": 2,
   "metadata": {},
   "outputs": [],
   "source": [
    "model = LargeCascadedModel(inplanes_encoder_1=4, channels_encoder_1=16, num_classes_1=3,\n",
    "                           inplanes_encoder_2=7, channels_encoder_2=32, num_classes_2=3)\n",
    "model.load_state_dict(torch.load(path, map_location='cuda:1')['state_dict'])\n",
    "BraTSDataset = BraTS(root=root, phase=\"train\", desired_depth=160, desired_height=240, desired_width=240)\n",
    "dataloader = DataLoader(BraTSDataset, batch_size=batch_size, shuffle=False)\n",
    "\n",
    "if use_gpu:\n",
    "    model = model.to(\"cuda\")\n",
    "\n",
    "diceLoss = DiceLossLoss()"
   ]
  },
  {
   "cell_type": "code",
   "execution_count": 3,
   "metadata": {},
   "outputs": [
    {
     "name": "stderr",
     "output_type": "stream",
     "text": [
      "1it [00:05,  5.39s/it]"
     ]
    },
    {
     "name": "stdout",
     "output_type": "stream",
     "text": [
      "Final Loss:  0.0\n"
     ]
    },
    {
     "name": "stderr",
     "output_type": "stream",
     "text": [
      "\r",
      "2it [00:07,  4.47s/it]"
     ]
    },
    {
     "name": "stdout",
     "output_type": "stream",
     "text": [
      "Final Loss:  0.0\n"
     ]
    },
    {
     "name": "stderr",
     "output_type": "stream",
     "text": [
      "\r",
      "3it [00:09,  3.80s/it]"
     ]
    },
    {
     "name": "stdout",
     "output_type": "stream",
     "text": [
      "Final Loss:  0.0\n"
     ]
    },
    {
     "name": "stderr",
     "output_type": "stream",
     "text": [
      "\r",
      "4it [00:12,  3.33s/it]"
     ]
    },
    {
     "name": "stdout",
     "output_type": "stream",
     "text": [
      "Final Loss:  0.0\n"
     ]
    },
    {
     "name": "stderr",
     "output_type": "stream",
     "text": [
      "\r",
      "5it [00:14,  3.04s/it]"
     ]
    },
    {
     "name": "stdout",
     "output_type": "stream",
     "text": [
      "Final Loss:  0.0\n"
     ]
    },
    {
     "name": "stderr",
     "output_type": "stream",
     "text": [
      "\r",
      "6it [00:16,  2.79s/it]"
     ]
    },
    {
     "name": "stdout",
     "output_type": "stream",
     "text": [
      "Final Loss:  0.0\n"
     ]
    },
    {
     "name": "stderr",
     "output_type": "stream",
     "text": [
      "\r",
      "7it [00:19,  2.66s/it]"
     ]
    },
    {
     "name": "stdout",
     "output_type": "stream",
     "text": [
      "Final Loss:  0.0\n"
     ]
    },
    {
     "name": "stderr",
     "output_type": "stream",
     "text": [
      "\r",
      "8it [00:21,  2.57s/it]"
     ]
    },
    {
     "name": "stdout",
     "output_type": "stream",
     "text": [
      "Final Loss:  0.0\n"
     ]
    },
    {
     "name": "stderr",
     "output_type": "stream",
     "text": [
      "\r",
      "9it [00:23,  2.49s/it]"
     ]
    },
    {
     "name": "stdout",
     "output_type": "stream",
     "text": [
      "Final Loss:  0.0\n"
     ]
    },
    {
     "name": "stderr",
     "output_type": "stream",
     "text": [
      "\r",
      "10it [00:26,  2.56s/it]"
     ]
    },
    {
     "name": "stdout",
     "output_type": "stream",
     "text": [
      "Final Loss:  0.0\n"
     ]
    },
    {
     "name": "stderr",
     "output_type": "stream",
     "text": [
      "\r",
      "11it [00:28,  2.50s/it]"
     ]
    },
    {
     "name": "stdout",
     "output_type": "stream",
     "text": [
      "Final Loss:  0.0\n"
     ]
    },
    {
     "name": "stderr",
     "output_type": "stream",
     "text": [
      "\r",
      "12it [00:31,  2.46s/it]"
     ]
    },
    {
     "name": "stdout",
     "output_type": "stream",
     "text": [
      "Final Loss:  0.0\n"
     ]
    },
    {
     "name": "stderr",
     "output_type": "stream",
     "text": [
      "\r",
      "13it [00:33,  2.44s/it]"
     ]
    },
    {
     "name": "stdout",
     "output_type": "stream",
     "text": [
      "Final Loss:  0.0\n"
     ]
    },
    {
     "name": "stderr",
     "output_type": "stream",
     "text": [
      "\r",
      "14it [00:35,  2.42s/it]"
     ]
    },
    {
     "name": "stdout",
     "output_type": "stream",
     "text": [
      "Final Loss:  0.0\n"
     ]
    },
    {
     "name": "stderr",
     "output_type": "stream",
     "text": [
      "\r",
      "15it [00:38,  2.40s/it]"
     ]
    },
    {
     "name": "stdout",
     "output_type": "stream",
     "text": [
      "Final Loss:  0.0\n"
     ]
    },
    {
     "name": "stderr",
     "output_type": "stream",
     "text": [
      "\r",
      "16it [00:40,  2.37s/it]"
     ]
    },
    {
     "name": "stdout",
     "output_type": "stream",
     "text": [
      "Final Loss:  0.0\n"
     ]
    },
    {
     "name": "stderr",
     "output_type": "stream",
     "text": [
      "\r",
      "17it [00:42,  2.36s/it]"
     ]
    },
    {
     "name": "stdout",
     "output_type": "stream",
     "text": [
      "Final Loss:  0.0\n"
     ]
    },
    {
     "name": "stderr",
     "output_type": "stream",
     "text": [
      "\r",
      "18it [00:45,  2.39s/it]"
     ]
    },
    {
     "name": "stdout",
     "output_type": "stream",
     "text": [
      "Final Loss:  0.0\n"
     ]
    },
    {
     "name": "stderr",
     "output_type": "stream",
     "text": [
      "\r",
      "19it [00:47,  2.37s/it]"
     ]
    },
    {
     "name": "stdout",
     "output_type": "stream",
     "text": [
      "Final Loss:  0.0\n"
     ]
    },
    {
     "name": "stderr",
     "output_type": "stream",
     "text": [
      "\r",
      "20it [00:50,  2.39s/it]"
     ]
    },
    {
     "name": "stdout",
     "output_type": "stream",
     "text": [
      "Final Loss:  0.0\n"
     ]
    },
    {
     "name": "stderr",
     "output_type": "stream",
     "text": [
      "\r",
      "21it [00:52,  2.41s/it]"
     ]
    },
    {
     "name": "stdout",
     "output_type": "stream",
     "text": [
      "Final Loss:  0.0\n"
     ]
    },
    {
     "name": "stderr",
     "output_type": "stream",
     "text": [
      "\r",
      "22it [00:54,  2.37s/it]"
     ]
    },
    {
     "name": "stdout",
     "output_type": "stream",
     "text": [
      "Final Loss:  0.0\n"
     ]
    },
    {
     "name": "stderr",
     "output_type": "stream",
     "text": [
      "\r",
      "23it [00:57,  2.36s/it]"
     ]
    },
    {
     "name": "stdout",
     "output_type": "stream",
     "text": [
      "Final Loss:  0.0\n"
     ]
    },
    {
     "name": "stderr",
     "output_type": "stream",
     "text": [
      "\r",
      "24it [00:59,  2.36s/it]"
     ]
    },
    {
     "name": "stdout",
     "output_type": "stream",
     "text": [
      "Final Loss:  0.0\n"
     ]
    },
    {
     "name": "stderr",
     "output_type": "stream",
     "text": [
      "\r",
      "25it [01:02,  2.37s/it]"
     ]
    },
    {
     "name": "stdout",
     "output_type": "stream",
     "text": [
      "Final Loss:  0.0\n"
     ]
    },
    {
     "name": "stderr",
     "output_type": "stream",
     "text": [
      "\r",
      "26it [01:04,  2.38s/it]"
     ]
    },
    {
     "name": "stdout",
     "output_type": "stream",
     "text": [
      "Final Loss:  0.0\n"
     ]
    },
    {
     "name": "stderr",
     "output_type": "stream",
     "text": [
      "\r",
      "27it [01:06,  2.42s/it]"
     ]
    },
    {
     "name": "stdout",
     "output_type": "stream",
     "text": [
      "Final Loss:  0.0\n"
     ]
    },
    {
     "name": "stderr",
     "output_type": "stream",
     "text": [
      "\r",
      "28it [01:09,  2.41s/it]"
     ]
    },
    {
     "name": "stdout",
     "output_type": "stream",
     "text": [
      "Final Loss:  0.0\n"
     ]
    },
    {
     "name": "stderr",
     "output_type": "stream",
     "text": [
      "\r",
      "29it [01:11,  2.41s/it]"
     ]
    },
    {
     "name": "stdout",
     "output_type": "stream",
     "text": [
      "Final Loss:  0.0\n"
     ]
    },
    {
     "name": "stderr",
     "output_type": "stream",
     "text": [
      "\r",
      "30it [01:13,  2.37s/it]"
     ]
    },
    {
     "name": "stdout",
     "output_type": "stream",
     "text": [
      "Final Loss:  0.0\n"
     ]
    },
    {
     "name": "stderr",
     "output_type": "stream",
     "text": [
      "\r",
      "31it [01:16,  2.36s/it]"
     ]
    },
    {
     "name": "stdout",
     "output_type": "stream",
     "text": [
      "Final Loss:  0.0\n"
     ]
    },
    {
     "name": "stderr",
     "output_type": "stream",
     "text": [
      "\r",
      "32it [01:18,  2.35s/it]"
     ]
    },
    {
     "name": "stdout",
     "output_type": "stream",
     "text": [
      "Final Loss:  0.0\n"
     ]
    },
    {
     "name": "stderr",
     "output_type": "stream",
     "text": [
      "\r",
      "33it [01:20,  2.35s/it]"
     ]
    },
    {
     "name": "stdout",
     "output_type": "stream",
     "text": [
      "Final Loss:  0.0\n"
     ]
    },
    {
     "name": "stderr",
     "output_type": "stream",
     "text": [
      "\r",
      "34it [01:23,  2.33s/it]"
     ]
    },
    {
     "name": "stdout",
     "output_type": "stream",
     "text": [
      "Final Loss:  0.0\n"
     ]
    },
    {
     "name": "stderr",
     "output_type": "stream",
     "text": [
      "\r",
      "35it [01:25,  2.35s/it]"
     ]
    },
    {
     "name": "stdout",
     "output_type": "stream",
     "text": [
      "Final Loss:  0.0\n"
     ]
    },
    {
     "name": "stderr",
     "output_type": "stream",
     "text": [
      "\r",
      "36it [01:28,  2.45s/it]"
     ]
    },
    {
     "name": "stdout",
     "output_type": "stream",
     "text": [
      "Final Loss:  0.0\n"
     ]
    },
    {
     "name": "stderr",
     "output_type": "stream",
     "text": [
      "\r",
      "37it [01:30,  2.44s/it]"
     ]
    },
    {
     "name": "stdout",
     "output_type": "stream",
     "text": [
      "Final Loss:  0.0\n"
     ]
    },
    {
     "name": "stderr",
     "output_type": "stream",
     "text": [
      "\r",
      "38it [01:33,  2.41s/it]"
     ]
    },
    {
     "name": "stdout",
     "output_type": "stream",
     "text": [
      "Final Loss:  0.0\n"
     ]
    },
    {
     "name": "stderr",
     "output_type": "stream",
     "text": [
      "\r",
      "39it [01:35,  2.37s/it]"
     ]
    },
    {
     "name": "stdout",
     "output_type": "stream",
     "text": [
      "Final Loss:  0.0\n"
     ]
    },
    {
     "name": "stderr",
     "output_type": "stream",
     "text": [
      "\r",
      "40it [01:37,  2.38s/it]"
     ]
    },
    {
     "name": "stdout",
     "output_type": "stream",
     "text": [
      "Final Loss:  0.0\n"
     ]
    },
    {
     "name": "stderr",
     "output_type": "stream",
     "text": [
      "\r",
      "41it [01:40,  2.47s/it]"
     ]
    },
    {
     "name": "stdout",
     "output_type": "stream",
     "text": [
      "Final Loss:  0.0\n"
     ]
    },
    {
     "name": "stderr",
     "output_type": "stream",
     "text": [
      "\r",
      "42it [01:42,  2.42s/it]"
     ]
    },
    {
     "name": "stdout",
     "output_type": "stream",
     "text": [
      "Final Loss:  0.0\n"
     ]
    },
    {
     "name": "stderr",
     "output_type": "stream",
     "text": [
      "\r",
      "43it [01:45,  2.42s/it]"
     ]
    },
    {
     "name": "stdout",
     "output_type": "stream",
     "text": [
      "Final Loss:  0.0\n"
     ]
    },
    {
     "name": "stderr",
     "output_type": "stream",
     "text": [
      "\r",
      "44it [01:47,  2.42s/it]"
     ]
    },
    {
     "name": "stdout",
     "output_type": "stream",
     "text": [
      "Final Loss:  0.0\n"
     ]
    },
    {
     "name": "stderr",
     "output_type": "stream",
     "text": [
      "\r",
      "45it [01:49,  2.41s/it]"
     ]
    },
    {
     "name": "stdout",
     "output_type": "stream",
     "text": [
      "Final Loss:  0.0\n"
     ]
    },
    {
     "name": "stderr",
     "output_type": "stream",
     "text": [
      "\r",
      "46it [01:52,  2.39s/it]"
     ]
    },
    {
     "name": "stdout",
     "output_type": "stream",
     "text": [
      "Final Loss:  0.0\n"
     ]
    },
    {
     "name": "stderr",
     "output_type": "stream",
     "text": [
      "\r",
      "47it [01:54,  2.39s/it]"
     ]
    },
    {
     "name": "stdout",
     "output_type": "stream",
     "text": [
      "Final Loss:  0.0\n"
     ]
    },
    {
     "name": "stderr",
     "output_type": "stream",
     "text": [
      "\r",
      "48it [01:57,  2.37s/it]"
     ]
    },
    {
     "name": "stdout",
     "output_type": "stream",
     "text": [
      "Final Loss:  0.0\n"
     ]
    },
    {
     "name": "stderr",
     "output_type": "stream",
     "text": [
      "\r",
      "49it [01:59,  2.37s/it]"
     ]
    },
    {
     "name": "stdout",
     "output_type": "stream",
     "text": [
      "Final Loss:  0.0\n"
     ]
    },
    {
     "name": "stderr",
     "output_type": "stream",
     "text": [
      "\r",
      "50it [02:01,  2.37s/it]"
     ]
    },
    {
     "name": "stdout",
     "output_type": "stream",
     "text": [
      "Final Loss:  0.0\n"
     ]
    },
    {
     "name": "stderr",
     "output_type": "stream",
     "text": [
      "\r",
      "51it [02:04,  2.35s/it]"
     ]
    },
    {
     "name": "stdout",
     "output_type": "stream",
     "text": [
      "Final Loss:  0.0\n"
     ]
    },
    {
     "name": "stderr",
     "output_type": "stream",
     "text": [
      "\r",
      "52it [02:06,  2.34s/it]"
     ]
    },
    {
     "name": "stdout",
     "output_type": "stream",
     "text": [
      "Final Loss:  0.0\n"
     ]
    },
    {
     "name": "stderr",
     "output_type": "stream",
     "text": [
      "\r",
      "53it [02:09,  2.44s/it]"
     ]
    },
    {
     "name": "stdout",
     "output_type": "stream",
     "text": [
      "Final Loss:  0.0\n"
     ]
    },
    {
     "name": "stderr",
     "output_type": "stream",
     "text": [
      "\r",
      "54it [02:11,  2.41s/it]"
     ]
    },
    {
     "name": "stdout",
     "output_type": "stream",
     "text": [
      "Final Loss:  0.0\n"
     ]
    },
    {
     "name": "stderr",
     "output_type": "stream",
     "text": [
      "\r",
      "55it [02:13,  2.40s/it]"
     ]
    },
    {
     "name": "stdout",
     "output_type": "stream",
     "text": [
      "Final Loss:  0.0\n"
     ]
    },
    {
     "name": "stderr",
     "output_type": "stream",
     "text": [
      "\r",
      "56it [02:16,  2.36s/it]"
     ]
    },
    {
     "name": "stdout",
     "output_type": "stream",
     "text": [
      "Final Loss:  0.0\n"
     ]
    },
    {
     "name": "stderr",
     "output_type": "stream",
     "text": [
      "\r",
      "57it [02:18,  2.38s/it]"
     ]
    },
    {
     "name": "stdout",
     "output_type": "stream",
     "text": [
      "Final Loss:  0.0\n"
     ]
    },
    {
     "name": "stderr",
     "output_type": "stream",
     "text": [
      "\r",
      "58it [02:20,  2.34s/it]"
     ]
    },
    {
     "name": "stdout",
     "output_type": "stream",
     "text": [
      "Final Loss:  0.0\n"
     ]
    },
    {
     "name": "stderr",
     "output_type": "stream",
     "text": [
      "\r",
      "59it [02:23,  2.36s/it]"
     ]
    },
    {
     "name": "stdout",
     "output_type": "stream",
     "text": [
      "Final Loss:  0.0\n"
     ]
    },
    {
     "name": "stderr",
     "output_type": "stream",
     "text": [
      "\r",
      "60it [02:25,  2.37s/it]"
     ]
    },
    {
     "name": "stdout",
     "output_type": "stream",
     "text": [
      "Final Loss:  0.0\n"
     ]
    },
    {
     "name": "stderr",
     "output_type": "stream",
     "text": [
      "\r",
      "61it [02:27,  2.37s/it]"
     ]
    },
    {
     "name": "stdout",
     "output_type": "stream",
     "text": [
      "Final Loss:  0.0\n"
     ]
    },
    {
     "name": "stderr",
     "output_type": "stream",
     "text": [
      "\r",
      "62it [02:30,  2.39s/it]"
     ]
    },
    {
     "name": "stdout",
     "output_type": "stream",
     "text": [
      "Final Loss:  0.0\n"
     ]
    },
    {
     "name": "stderr",
     "output_type": "stream",
     "text": [
      "\r",
      "63it [02:32,  2.39s/it]"
     ]
    },
    {
     "name": "stdout",
     "output_type": "stream",
     "text": [
      "Final Loss:  0.0\n"
     ]
    },
    {
     "name": "stderr",
     "output_type": "stream",
     "text": [
      "\r",
      "64it [02:35,  2.37s/it]"
     ]
    },
    {
     "name": "stdout",
     "output_type": "stream",
     "text": [
      "Final Loss:  0.0\n"
     ]
    },
    {
     "name": "stderr",
     "output_type": "stream",
     "text": [
      "\r",
      "65it [02:37,  2.39s/it]"
     ]
    },
    {
     "name": "stdout",
     "output_type": "stream",
     "text": [
      "Final Loss:  0.0\n"
     ]
    },
    {
     "name": "stderr",
     "output_type": "stream",
     "text": [
      "\r",
      "66it [02:39,  2.32s/it]"
     ]
    },
    {
     "name": "stdout",
     "output_type": "stream",
     "text": [
      "Final Loss:  0.0\n"
     ]
    },
    {
     "name": "stderr",
     "output_type": "stream",
     "text": [
      "\r",
      "67it [02:42,  2.40s/it]"
     ]
    },
    {
     "name": "stdout",
     "output_type": "stream",
     "text": [
      "Final Loss:  0.0\n"
     ]
    },
    {
     "name": "stderr",
     "output_type": "stream",
     "text": [
      "\r",
      "68it [02:44,  2.38s/it]"
     ]
    },
    {
     "name": "stdout",
     "output_type": "stream",
     "text": [
      "Final Loss:  0.0\n"
     ]
    },
    {
     "name": "stderr",
     "output_type": "stream",
     "text": [
      "\r",
      "69it [02:47,  2.40s/it]"
     ]
    },
    {
     "name": "stdout",
     "output_type": "stream",
     "text": [
      "Final Loss:  0.0\n"
     ]
    },
    {
     "name": "stderr",
     "output_type": "stream",
     "text": [
      "\r",
      "70it [02:49,  2.39s/it]"
     ]
    },
    {
     "name": "stdout",
     "output_type": "stream",
     "text": [
      "Final Loss:  0.0\n"
     ]
    },
    {
     "name": "stderr",
     "output_type": "stream",
     "text": [
      "\r",
      "71it [02:51,  2.37s/it]"
     ]
    },
    {
     "name": "stdout",
     "output_type": "stream",
     "text": [
      "Final Loss:  0.0\n"
     ]
    },
    {
     "name": "stderr",
     "output_type": "stream",
     "text": [
      "\r",
      "72it [02:54,  2.35s/it]"
     ]
    },
    {
     "name": "stdout",
     "output_type": "stream",
     "text": [
      "Final Loss:  0.0\n"
     ]
    },
    {
     "name": "stderr",
     "output_type": "stream",
     "text": [
      "\r",
      "73it [02:56,  2.35s/it]"
     ]
    },
    {
     "name": "stdout",
     "output_type": "stream",
     "text": [
      "Final Loss:  0.0\n"
     ]
    },
    {
     "name": "stderr",
     "output_type": "stream",
     "text": [
      "\r",
      "74it [02:58,  2.35s/it]"
     ]
    },
    {
     "name": "stdout",
     "output_type": "stream",
     "text": [
      "Final Loss:  0.0\n"
     ]
    },
    {
     "name": "stderr",
     "output_type": "stream",
     "text": [
      "\r",
      "75it [03:01,  2.37s/it]"
     ]
    },
    {
     "name": "stdout",
     "output_type": "stream",
     "text": [
      "Final Loss:  0.0\n"
     ]
    },
    {
     "name": "stderr",
     "output_type": "stream",
     "text": [
      "\r",
      "76it [03:03,  2.34s/it]"
     ]
    },
    {
     "name": "stdout",
     "output_type": "stream",
     "text": [
      "Final Loss:  0.0\n"
     ]
    },
    {
     "name": "stderr",
     "output_type": "stream",
     "text": [
      "\r",
      "77it [03:05,  2.39s/it]"
     ]
    },
    {
     "name": "stdout",
     "output_type": "stream",
     "text": [
      "Final Loss:  0.0\n"
     ]
    },
    {
     "name": "stderr",
     "output_type": "stream",
     "text": [
      "\r",
      "78it [03:08,  2.36s/it]"
     ]
    },
    {
     "name": "stdout",
     "output_type": "stream",
     "text": [
      "Final Loss:  0.0\n"
     ]
    },
    {
     "name": "stderr",
     "output_type": "stream",
     "text": [
      "\r",
      "79it [03:10,  2.39s/it]"
     ]
    },
    {
     "name": "stdout",
     "output_type": "stream",
     "text": [
      "Final Loss:  0.0\n"
     ]
    },
    {
     "name": "stderr",
     "output_type": "stream",
     "text": [
      "\r",
      "80it [03:12,  2.36s/it]"
     ]
    },
    {
     "name": "stdout",
     "output_type": "stream",
     "text": [
      "Final Loss:  0.0\n"
     ]
    },
    {
     "name": "stderr",
     "output_type": "stream",
     "text": [
      "\r",
      "81it [03:15,  2.35s/it]"
     ]
    },
    {
     "name": "stdout",
     "output_type": "stream",
     "text": [
      "Final Loss:  0.0\n"
     ]
    },
    {
     "name": "stderr",
     "output_type": "stream",
     "text": [
      "\r",
      "82it [03:17,  2.34s/it]"
     ]
    },
    {
     "name": "stdout",
     "output_type": "stream",
     "text": [
      "Final Loss:  0.0\n"
     ]
    },
    {
     "name": "stderr",
     "output_type": "stream",
     "text": [
      "\r",
      "83it [03:20,  2.42s/it]"
     ]
    },
    {
     "name": "stdout",
     "output_type": "stream",
     "text": [
      "Final Loss:  0.0\n"
     ]
    },
    {
     "name": "stderr",
     "output_type": "stream",
     "text": [
      "\r",
      "84it [03:22,  2.38s/it]"
     ]
    },
    {
     "name": "stdout",
     "output_type": "stream",
     "text": [
      "Final Loss:  0.0\n"
     ]
    },
    {
     "name": "stderr",
     "output_type": "stream",
     "text": [
      "\r",
      "85it [03:24,  2.38s/it]"
     ]
    },
    {
     "name": "stdout",
     "output_type": "stream",
     "text": [
      "Final Loss:  0.0\n"
     ]
    },
    {
     "name": "stderr",
     "output_type": "stream",
     "text": [
      "\r",
      "86it [03:27,  2.35s/it]"
     ]
    },
    {
     "name": "stdout",
     "output_type": "stream",
     "text": [
      "Final Loss:  0.0\n"
     ]
    },
    {
     "name": "stderr",
     "output_type": "stream",
     "text": [
      "\r",
      "87it [03:29,  2.34s/it]"
     ]
    },
    {
     "name": "stdout",
     "output_type": "stream",
     "text": [
      "Final Loss:  0.0\n"
     ]
    },
    {
     "name": "stderr",
     "output_type": "stream",
     "text": [
      "\r",
      "88it [03:31,  2.32s/it]"
     ]
    },
    {
     "name": "stdout",
     "output_type": "stream",
     "text": [
      "Final Loss:  0.0\n"
     ]
    },
    {
     "name": "stderr",
     "output_type": "stream",
     "text": [
      "\r",
      "89it [03:34,  2.40s/it]"
     ]
    },
    {
     "name": "stdout",
     "output_type": "stream",
     "text": [
      "Final Loss:  0.0\n"
     ]
    },
    {
     "name": "stderr",
     "output_type": "stream",
     "text": [
      "\r",
      "90it [03:36,  2.36s/it]"
     ]
    },
    {
     "name": "stdout",
     "output_type": "stream",
     "text": [
      "Final Loss:  0.0\n"
     ]
    },
    {
     "name": "stderr",
     "output_type": "stream",
     "text": [
      "\r",
      "91it [03:38,  2.36s/it]"
     ]
    },
    {
     "name": "stdout",
     "output_type": "stream",
     "text": [
      "Final Loss:  0.0\n"
     ]
    },
    {
     "name": "stderr",
     "output_type": "stream",
     "text": [
      "\r",
      "92it [03:41,  2.33s/it]"
     ]
    },
    {
     "name": "stdout",
     "output_type": "stream",
     "text": [
      "Final Loss:  0.0\n"
     ]
    },
    {
     "name": "stderr",
     "output_type": "stream",
     "text": [
      "\r",
      "93it [03:43,  2.33s/it]"
     ]
    },
    {
     "name": "stdout",
     "output_type": "stream",
     "text": [
      "Final Loss:  0.0\n"
     ]
    },
    {
     "name": "stderr",
     "output_type": "stream",
     "text": [
      "\r",
      "94it [03:45,  2.33s/it]"
     ]
    },
    {
     "name": "stdout",
     "output_type": "stream",
     "text": [
      "Final Loss:  0.0\n"
     ]
    },
    {
     "name": "stderr",
     "output_type": "stream",
     "text": [
      "\r",
      "95it [03:48,  2.32s/it]"
     ]
    },
    {
     "name": "stdout",
     "output_type": "stream",
     "text": [
      "Final Loss:  0.0\n"
     ]
    },
    {
     "name": "stderr",
     "output_type": "stream",
     "text": [
      "\r",
      "96it [03:50,  2.32s/it]"
     ]
    },
    {
     "name": "stdout",
     "output_type": "stream",
     "text": [
      "Final Loss:  0.0\n"
     ]
    },
    {
     "name": "stderr",
     "output_type": "stream",
     "text": [
      "\r",
      "97it [03:52,  2.32s/it]"
     ]
    },
    {
     "name": "stdout",
     "output_type": "stream",
     "text": [
      "Final Loss:  0.0\n"
     ]
    },
    {
     "name": "stderr",
     "output_type": "stream",
     "text": [
      "\r",
      "98it [03:55,  2.39s/it]"
     ]
    },
    {
     "name": "stdout",
     "output_type": "stream",
     "text": [
      "Final Loss:  0.0\n"
     ]
    },
    {
     "name": "stderr",
     "output_type": "stream",
     "text": [
      "\r",
      "99it [03:57,  2.38s/it]"
     ]
    },
    {
     "name": "stdout",
     "output_type": "stream",
     "text": [
      "Final Loss:  0.0\n"
     ]
    },
    {
     "name": "stderr",
     "output_type": "stream",
     "text": [
      "\r",
      "100it [04:00,  2.37s/it]"
     ]
    },
    {
     "name": "stdout",
     "output_type": "stream",
     "text": [
      "Final Loss:  0.0\n"
     ]
    },
    {
     "name": "stderr",
     "output_type": "stream",
     "text": [
      "\r",
      "101it [04:02,  2.39s/it]"
     ]
    },
    {
     "name": "stdout",
     "output_type": "stream",
     "text": [
      "Final Loss:  0.0\n"
     ]
    },
    {
     "name": "stderr",
     "output_type": "stream",
     "text": [
      "\r",
      "102it [04:05,  2.45s/it]"
     ]
    },
    {
     "name": "stdout",
     "output_type": "stream",
     "text": [
      "Final Loss:  0.0\n"
     ]
    },
    {
     "name": "stderr",
     "output_type": "stream",
     "text": [
      "\r",
      "103it [04:07,  2.51s/it]"
     ]
    },
    {
     "name": "stdout",
     "output_type": "stream",
     "text": [
      "Final Loss:  0.0\n"
     ]
    },
    {
     "name": "stderr",
     "output_type": "stream",
     "text": [
      "\r",
      "104it [04:10,  2.45s/it]"
     ]
    },
    {
     "name": "stdout",
     "output_type": "stream",
     "text": [
      "Final Loss:  0.0\n"
     ]
    },
    {
     "name": "stderr",
     "output_type": "stream",
     "text": [
      "\r",
      "105it [04:12,  2.41s/it]"
     ]
    },
    {
     "name": "stdout",
     "output_type": "stream",
     "text": [
      "Final Loss:  0.0\n"
     ]
    },
    {
     "name": "stderr",
     "output_type": "stream",
     "text": [
      "\r",
      "106it [04:14,  2.38s/it]"
     ]
    },
    {
     "name": "stdout",
     "output_type": "stream",
     "text": [
      "Final Loss:  0.0\n"
     ]
    },
    {
     "name": "stderr",
     "output_type": "stream",
     "text": [
      "\r",
      "107it [04:17,  2.38s/it]"
     ]
    },
    {
     "name": "stdout",
     "output_type": "stream",
     "text": [
      "Final Loss:  0.0\n"
     ]
    },
    {
     "name": "stderr",
     "output_type": "stream",
     "text": [
      "\r",
      "108it [04:19,  2.37s/it]"
     ]
    },
    {
     "name": "stdout",
     "output_type": "stream",
     "text": [
      "Final Loss:  0.0\n"
     ]
    },
    {
     "name": "stderr",
     "output_type": "stream",
     "text": [
      "\r",
      "109it [04:22,  2.46s/it]"
     ]
    },
    {
     "name": "stdout",
     "output_type": "stream",
     "text": [
      "Final Loss:  0.0\n"
     ]
    },
    {
     "name": "stderr",
     "output_type": "stream",
     "text": [
      "\r",
      "110it [04:24,  2.43s/it]"
     ]
    },
    {
     "name": "stdout",
     "output_type": "stream",
     "text": [
      "Final Loss:  0.0\n"
     ]
    },
    {
     "name": "stderr",
     "output_type": "stream",
     "text": [
      "\r",
      "111it [04:26,  2.39s/it]"
     ]
    },
    {
     "name": "stdout",
     "output_type": "stream",
     "text": [
      "Final Loss:  0.0\n"
     ]
    },
    {
     "name": "stderr",
     "output_type": "stream",
     "text": [
      "\r",
      "112it [04:29,  2.38s/it]"
     ]
    },
    {
     "name": "stdout",
     "output_type": "stream",
     "text": [
      "Final Loss:  0.0\n"
     ]
    },
    {
     "name": "stderr",
     "output_type": "stream",
     "text": [
      "\r",
      "113it [04:31,  2.39s/it]"
     ]
    },
    {
     "name": "stdout",
     "output_type": "stream",
     "text": [
      "Final Loss:  0.0\n"
     ]
    },
    {
     "name": "stderr",
     "output_type": "stream",
     "text": [
      "\r",
      "114it [04:33,  2.40s/it]"
     ]
    },
    {
     "name": "stdout",
     "output_type": "stream",
     "text": [
      "Final Loss:  0.0\n"
     ]
    },
    {
     "name": "stderr",
     "output_type": "stream",
     "text": [
      "\r",
      "115it [04:36,  2.38s/it]"
     ]
    },
    {
     "name": "stdout",
     "output_type": "stream",
     "text": [
      "Final Loss:  0.0\n"
     ]
    },
    {
     "name": "stderr",
     "output_type": "stream",
     "text": [
      "\r",
      "116it [04:38,  2.39s/it]"
     ]
    },
    {
     "name": "stdout",
     "output_type": "stream",
     "text": [
      "Final Loss:  0.0\n"
     ]
    },
    {
     "name": "stderr",
     "output_type": "stream",
     "text": [
      "\r",
      "117it [04:41,  2.39s/it]"
     ]
    },
    {
     "name": "stdout",
     "output_type": "stream",
     "text": [
      "Final Loss:  0.0\n"
     ]
    },
    {
     "name": "stderr",
     "output_type": "stream",
     "text": [
      "\r",
      "118it [04:43,  2.38s/it]"
     ]
    },
    {
     "name": "stdout",
     "output_type": "stream",
     "text": [
      "Final Loss:  0.0\n"
     ]
    },
    {
     "name": "stderr",
     "output_type": "stream",
     "text": [
      "\r",
      "119it [04:45,  2.38s/it]"
     ]
    },
    {
     "name": "stdout",
     "output_type": "stream",
     "text": [
      "Final Loss:  0.0\n"
     ]
    },
    {
     "name": "stderr",
     "output_type": "stream",
     "text": [
      "\r",
      "120it [04:48,  2.38s/it]"
     ]
    },
    {
     "name": "stdout",
     "output_type": "stream",
     "text": [
      "Final Loss:  0.0\n"
     ]
    },
    {
     "name": "stderr",
     "output_type": "stream",
     "text": [
      "\r",
      "121it [04:50,  2.39s/it]"
     ]
    },
    {
     "name": "stdout",
     "output_type": "stream",
     "text": [
      "Final Loss:  0.0\n"
     ]
    },
    {
     "name": "stderr",
     "output_type": "stream",
     "text": [
      "\r",
      "122it [04:52,  2.38s/it]"
     ]
    },
    {
     "name": "stdout",
     "output_type": "stream",
     "text": [
      "Final Loss:  0.0\n"
     ]
    },
    {
     "name": "stderr",
     "output_type": "stream",
     "text": [
      "\r",
      "123it [04:55,  2.35s/it]"
     ]
    },
    {
     "name": "stdout",
     "output_type": "stream",
     "text": [
      "Final Loss:  0.0\n"
     ]
    },
    {
     "name": "stderr",
     "output_type": "stream",
     "text": [
      "\r",
      "124it [04:57,  2.33s/it]"
     ]
    },
    {
     "name": "stdout",
     "output_type": "stream",
     "text": [
      "Final Loss:  0.0\n"
     ]
    },
    {
     "name": "stderr",
     "output_type": "stream",
     "text": [
      "125it [04:59,  2.40s/it]"
     ]
    },
    {
     "name": "stdout",
     "output_type": "stream",
     "text": [
      "Final Loss:  0.0\n"
     ]
    },
    {
     "name": "stderr",
     "output_type": "stream",
     "text": [
      "\n"
     ]
    }
   ],
   "source": [
    "model.eval()\n",
    "threshold = 0.5\n",
    "\n",
    "all_losses = 0\n",
    "for ix, loader in tqdm(enumerate(dataloader)):\n",
    "    volume, mask, contour, patient = loader\n",
    "    if use_gpu:\n",
    "        volume = volume.to(\"cuda\")\n",
    "        mask = mask.to(\"cuda\")\n",
    "        contour = contour.to(\"cuda\")\n",
    "\n",
    "    with torch.no_grad():\n",
    "        _, _, decoded_region3, _ = model(volume)\n",
    "        decoded_region3 = decoded_region3.detach().cpu().numpy()\n",
    "        decoded_region3 = decoded_region3.squeeze()\n",
    "\n",
    "    np.save(\"./val_masks_np/\" + patient[0] + \".np\", decoded_region3)\n",
    "\n",
    "    print(\"Final Loss: \", all_losses / len(BraTSDataset))"
   ]
  },
  {
   "cell_type": "code",
   "execution_count": 4,
   "metadata": {},
   "outputs": [
    {
     "name": "stdout",
     "output_type": "stream",
     "text": [
      "BraTS20_Validation_016 ***-> 13782\n",
      "BraTS20_Validation_052 ***-> 17828\n",
      "BraTS20_Validation_037 ***-> 13051\n",
      "BraTS20_Validation_007 ***-> 28296\n",
      "BraTS20_Validation_029 ***-> 24010\n",
      "BraTS20_Validation_100 ***-> 34547\n",
      "BraTS20_Validation_021 ***-> 11183\n",
      "BraTS20_Validation_038 ***-> 5343\n",
      "BraTS20_Validation_050 ***-> 25713\n",
      "BraTS20_Validation_090 ***-> 358\n",
      "BraTS20_Validation_119 ***-> 11729\n",
      "BraTS20_Validation_073 ***-> 3394\n",
      "BraTS20_Validation_120 ***-> 19554\n",
      "BraTS20_Validation_005 ***-> 1809\n",
      "BraTS20_Validation_069 ---> 1056\n",
      "BraTS20_Validation_078 ***-> 724\n",
      "BraTS20_Validation_001 ***-> 19750\n",
      "BraTS20_Validation_057 ***-> 25506\n",
      "BraTS20_Validation_009 ***-> 3298\n",
      "BraTS20_Validation_064 ***-> 26583\n",
      "BraTS20_Validation_122 ***-> 25117\n",
      "BraTS20_Validation_004 ***-> 48597\n",
      "BraTS20_Validation_041 ***-> 23078\n",
      "BraTS20_Validation_049 ***-> 17292\n",
      "BraTS20_Validation_031 ***-> 2629\n",
      "BraTS20_Validation_054 ***-> 65356\n",
      "BraTS20_Validation_008 ***-> 43084\n",
      "BraTS20_Validation_112 ***-> 15333\n",
      "BraTS20_Validation_071 ***-> 100293\n",
      "BraTS20_Validation_098 ***-> 9535\n",
      "BraTS20_Validation_104 ***-> 3869\n",
      "BraTS20_Validation_060 ***-> 49699\n",
      "BraTS20_Validation_058 ***-> 12184\n",
      "BraTS20_Validation_103 ---> 0\n",
      "BraTS20_Validation_023 ***-> 19493\n",
      "BraTS20_Validation_116 ***-> 15806\n",
      "BraTS20_Validation_036 ***-> 51669\n",
      "BraTS20_Validation_111 ***-> 7463\n",
      "BraTS20_Validation_105 ***-> 107448\n",
      "BraTS20_Validation_089 ---> 0\n",
      "BraTS20_Validation_047 ***-> 16993\n",
      "BraTS20_Validation_044 ***-> 34359\n",
      "BraTS20_Validation_079 ***-> 27719\n",
      "BraTS20_Validation_045 ***-> 14093\n",
      "BraTS20_Validation_091 ---> 0\n",
      "BraTS20_Validation_063 ***-> 42709\n",
      "BraTS20_Validation_101 ***-> 7187\n",
      "BraTS20_Validation_055 ***-> 32006\n",
      "BraTS20_Validation_011 ***-> 3201\n",
      "BraTS20_Validation_124 ***-> 16089\n",
      "BraTS20_Validation_068 ---> 0\n",
      "BraTS20_Validation_070 ***-> 2733\n",
      "BraTS20_Validation_107 ***-> 377\n",
      "BraTS20_Validation_102 ***-> 3127\n",
      "BraTS20_Validation_024 ***-> 20067\n",
      "BraTS20_Validation_019 ***-> 15911\n",
      "BraTS20_Validation_046 ***-> 18224\n",
      "BraTS20_Validation_096 ***-> 947\n",
      "BraTS20_Validation_043 ***-> 34620\n",
      "BraTS20_Validation_010 ***-> 38664\n",
      "BraTS20_Validation_085 ---> 0\n",
      "BraTS20_Validation_017 ***-> 18292\n",
      "BraTS20_Validation_006 ***-> 12298\n",
      "BraTS20_Validation_034 ***-> 71800\n",
      "BraTS20_Validation_003 ***-> 8396\n",
      "BraTS20_Validation_115 ***-> 24886\n",
      "BraTS20_Validation_048 ***-> 11491\n",
      "BraTS20_Validation_092 ---> 0\n",
      "BraTS20_Validation_033 ***-> 2070\n",
      "BraTS20_Validation_121 ***-> 18540\n",
      "BraTS20_Validation_040 ***-> 46006\n",
      "BraTS20_Validation_062 ***-> 12203\n",
      "BraTS20_Validation_072 ---> 750\n",
      "BraTS20_Validation_109 ***-> 11237\n",
      "BraTS20_Validation_067 ---> 0\n",
      "BraTS20_Validation_025 ***-> 46187\n",
      "BraTS20_Validation_113 ***-> 9814\n",
      "BraTS20_Validation_097 ***-> 0\n",
      "BraTS20_Validation_053 ***-> 48424\n",
      "BraTS20_Validation_051 ***-> 13172\n",
      "BraTS20_Validation_088 ---> 0\n",
      "BraTS20_Validation_061 ***-> 37737\n",
      "BraTS20_Validation_094 ***-> 18356\n",
      "BraTS20_Validation_106 ***-> 9306\n",
      "BraTS20_Validation_074 ---> 153\n",
      "BraTS20_Validation_080 ***-> 1221\n",
      "BraTS20_Validation_083 ---> 321\n",
      "BraTS20_Validation_123 ***-> 8300\n",
      "BraTS20_Validation_077 ---> 4\n",
      "BraTS20_Validation_018 ***-> 23537\n",
      "BraTS20_Validation_075 ***-> 507\n",
      "BraTS20_Validation_015 ***-> 41873\n",
      "BraTS20_Validation_056 ***-> 12136\n",
      "BraTS20_Validation_042 ***-> 47009\n",
      "BraTS20_Validation_013 ***-> 4193\n",
      "BraTS20_Validation_030 ***-> 23130\n",
      "BraTS20_Validation_099 ---> 426\n",
      "BraTS20_Validation_081 ***-> 12852\n",
      "BraTS20_Validation_066 ***-> 10118\n",
      "BraTS20_Validation_076 ---> 284\n",
      "BraTS20_Validation_114 ***-> 10348\n",
      "BraTS20_Validation_087 ---> 4\n",
      "BraTS20_Validation_108 ***-> 4817\n",
      "BraTS20_Validation_059 ***-> 27905\n",
      "BraTS20_Validation_028 ***-> 5694\n",
      "BraTS20_Validation_084 ***-> 4578\n",
      "BraTS20_Validation_086 ***-> 3031\n",
      "BraTS20_Validation_020 ***-> 44709\n",
      "BraTS20_Validation_022 ***-> 23762\n",
      "BraTS20_Validation_002 ***-> 9020\n",
      "BraTS20_Validation_095 ***-> 916\n",
      "BraTS20_Validation_026 ***-> 3038\n",
      "BraTS20_Validation_027 ***-> 7055\n",
      "BraTS20_Validation_032 ***-> 11653\n",
      "BraTS20_Validation_035 ***-> 19874\n",
      "BraTS20_Validation_014 ***-> 17430\n",
      "BraTS20_Validation_110 ***-> 14154\n",
      "BraTS20_Validation_125 ***-> 11017\n",
      "BraTS20_Validation_118 ***-> 50411\n",
      "BraTS20_Validation_012 ***-> 5736\n",
      "BraTS20_Validation_093 ***-> 13399\n",
      "BraTS20_Validation_039 ***-> 64622\n",
      "BraTS20_Validation_082 ***-> 0\n",
      "BraTS20_Validation_065 ***-> 79581\n",
      "BraTS20_Validation_117 ***-> 5230\n"
     ]
    }
   ],
   "source": [
    "import SimpleITK as sitk\n",
    "import os\n",
    "import numpy as np\n",
    "\n",
    "dir_np = \"./val_masks_np/\"\n",
    "dir_patients = \"/home/sentic/MICCAI/data/val/\"\n",
    "out_dir = \"./final_masks/\"\n",
    "\n",
    "intresting_patients = ['BraTS20_Validation_067', 'BraTS20_Validation_068', 'BraTS20_Validation_069', 'BraTS20_Validation_072',\n",
    "                      'BraTS20_Validation_083', 'BraTS20_Validation_077', 'BraTS20_Validation_076', 'BraTS20_Validation_074',\n",
    "                      'BraTS20_Validation_085', 'BraTS20_Validation_087', 'BraTS20_Validation_088', 'BraTS20_Validation_089',\n",
    "                      'BraTS20_Validation_091', 'BraTS20_Validation_092', 'BraTS20_Validation_099', 'BraTS20_Validation_103']\n",
    "threshold_wt = 0.65\n",
    "threshold_tc = 0.5 \n",
    "threshold_et = 0.8\n",
    "low_threshold_et = 0.4\n",
    "threshold_num_pixels_et = 100\n",
    "\n",
    "for np_array_fname in os.listdir(dir_np):\n",
    "    \n",
    "    np_array = np.load(os.path.join(dir_np, np_array_fname))\n",
    "    np_array = np_array[:, :155, : , :]\n",
    "    path_patient = os.path.join(dir_patients, np_array_fname[:-7], np_array_fname[:-7] + \"_flair.nii.gz\")\n",
    "    image_patient = sitk.ReadImage(path_patient)\n",
    "    direction = image_patient.GetDirection()\n",
    "    origin = image_patient.GetOrigin()\n",
    "    spacing = image_patient.GetSpacing()\n",
    "\n",
    "    seg_image = np.zeros((155, 240, 240))\n",
    "\n",
    "    label_1 = np_array[2, :, :, :] # where the enhanced tumor is\n",
    "    location_pixels_et = np.where(label_1 > threshold_et)\n",
    "    num_pixels_et = location_pixels_et[0].shape[0]\n",
    "    label_2 = np_array[1, :, :, :] # locatia 1-urilor si 4-urilor\n",
    "    label_3 = np_array[0, :, :, :] # locatia 1 + 2 + 4\n",
    "    if np_array_fname[:-7] in intresting_patients:\n",
    "        print(np_array_fname[:-7], \"--->\", num_pixels_et)\n",
    "    else:\n",
    "        print(np_array_fname[:-7], \"***->\", num_pixels_et)\n",
    "    \n",
    "    if num_pixels_et > threshold_num_pixels_et: # if there are at least num of pixels\n",
    "        label_1[label_1 > threshold_et] = 1 # put them in et category\n",
    "    else:\n",
    "        label_1[label_1 > threshold_et] = 0 # don't put them\n",
    "        label_2[location_pixels_et] = 1 # but put them on tumor core\n",
    "        \n",
    "    label_1[label_1 < threshold_et] = 0\n",
    "    location_1 = np.where(label_1 != 0)\n",
    "    seg_image[location_1] = 4\n",
    "    \n",
    "    label_2[label_2 > threshold_tc] = 1\n",
    "    label_2[label_2 < threshold_tc] = 0\n",
    "    location_2 = np.where((label_2 != 0) & (label_1 == 0))\n",
    "    seg_image[location_2] = 1\n",
    "\n",
    "    \n",
    "    label_3[label_3 > threshold_wt] = 1\n",
    "    label_3[label_3 < threshold_wt] = 0\n",
    "    location_3 = np.where((label_3 != 0) & (label_2 == 0))\n",
    "    seg_image[location_3] = 2\n",
    "\n",
    "    seg_Image = sitk.GetImageFromArray(seg_image)\n",
    "    seg_Image.SetDirection(direction)\n",
    "    seg_Image.SetOrigin(origin)\n",
    "    seg_Image.SetSpacing(spacing)\n",
    "\n",
    "\n",
    "    sitk.WriteImage(seg_Image, os.path.join(out_dir, np_array_fname[:-7] + \".nii.gz\"))\n"
   ]
  },
  {
   "cell_type": "code",
   "execution_count": 6,
   "metadata": {},
   "outputs": [],
   "source": [
    "### checkpoint 12 ###\n",
    "BraTS20_Validation_069 ---> 2264\n",
    "BraTS20_Validation_103 ---> 166\n",
    "BraTS20_Validation_089 ---> 260\n",
    "BraTS20_Validation_091 ---> 0\n",
    "BraTS20_Validation_068 ---> 116\n",
    "BraTS20_Validation_085 ---> 13\n",
    "BraTS20_Validation_092 ---> 6\n",
    "BraTS20_Validation_072 ---> 1177\n",
    "BraTS20_Validation_067 ---> 621\n",
    "BraTS20_Validation_088 ---> 16\n",
    "BraTS20_Validation_074 ---> 372\n",
    "BraTS20_Validation_083 ---> 781\n",
    "BraTS20_Validation_077 ---> 368\n",
    "BraTS20_Validation_099 ---> 859\n",
    "BraTS20_Validation_076 ---> 1449\n",
    "BraTS20_Validation_087 ---> 44"
   ]
  },
  {
   "cell_type": "code",
   "execution_count": null,
   "metadata": {},
   "outputs": [],
   "source": [
    "#### checkpoint 9 ###\n",
    "BraTS20_Validation_069 ---> 1931\n",
    "BraTS20_Validation_103 ---> 1182\n",
    "BraTS20_Validation_089 ---> 1\n",
    "BraTS20_Validation_091 ---> 0\n",
    "BraTS20_Validation_068 ---> 0\n",
    "BraTS20_Validation_085 ---> 0\n",
    "BraTS20_Validation_092 ---> 0\n",
    "BraTS20_Validation_072 ---> 931\n",
    "BraTS20_Validation_067 ---> 21711\n",
    "BraTS20_Validation_088 ---> 0\n",
    "BraTS20_Validation_074 ---> 303\n",
    "BraTS20_Validation_083 ---> 46\n",
    "BraTS20_Validation_077 ---> 385\n",
    "BraTS20_Validation_099 ---> 746\n",
    "BraTS20_Validation_076 ---> 1363\n",
    "BraTS20_Validation_087 ---> 2"
   ]
  },
  {
   "cell_type": "code",
   "execution_count": null,
   "metadata": {},
   "outputs": [],
   "source": [
    "# checkpoint 15\n",
    "BraTS20_Validation_069 ---> 2357\n",
    "BraTS20_Validation_103 ---> 39\n",
    "BraTS20_Validation_089 ---> 9\n",
    "BraTS20_Validation_091 ---> 0\n",
    "BraTS20_Validation_068 ---> 22\n",
    "BraTS20_Validation_085 ---> 0\n",
    "BraTS20_Validation_092 ---> 0\n",
    "BraTS20_Validation_072 ---> 296\n",
    "BraTS20_Validation_067 ---> 23213\n",
    "BraTS20_Validation_088 ---> 0\n",
    "BraTS20_Validation_074 ---> 176\n",
    "BraTS20_Validation_083 ---> 162\n",
    "BraTS20_Validation_077 ---> 57\n",
    "BraTS20_Validation_099 ---> 92\n",
    "BraTS20_Validation_076 ---> 795\n",
    "BraTS20_Validation_087 ---> 1"
   ]
  },
  {
   "cell_type": "code",
   "execution_count": null,
   "metadata": {},
   "outputs": [],
   "source": [
    "# checkpoint 21\n",
    "BraTS20_Validation_069 ---> 1888\n",
    "BraTS20_Validation_103 ---> 19\n",
    "BraTS20_Validation_089 ---> 0\n",
    "BraTS20_Validation_091 ---> 0\n",
    "BraTS20_Validation_068 ---> 25\n",
    "BraTS20_Validation_085 ---> 0\n",
    "BraTS20_Validation_092 ---> 0\n",
    "BraTS20_Validation_072 ---> 665\n",
    "BraTS20_Validation_067 ---> 523\n",
    "BraTS20_Validation_088 ---> 0\n",
    "BraTS20_Validation_074 ---> 320\n",
    "BraTS20_Validation_083 ---> 36\n",
    "BraTS20_Validation_077 ---> 354\n",
    "BraTS20_Validation_099 ---> 446\n",
    "BraTS20_Validation_076 ---> 931\n",
    "BraTS20_Validation_087 ---> 7"
   ]
  },
  {
   "cell_type": "code",
   "execution_count": null,
   "metadata": {},
   "outputs": [],
   "source": [
    "# checkpoint 27\n",
    "BraTS20_Validation_069 ---> 752\n",
    "BraTS20_Validation_103 ---> 42\n",
    "BraTS20_Validation_089 ---> 24\n",
    "BraTS20_Validation_091 ---> 0\n",
    "BraTS20_Validation_068 ---> 0\n",
    "BraTS20_Validation_085 ---> 0\n",
    "BraTS20_Validation_092 ---> 0\n",
    "BraTS20_Validation_072 ---> 717\n",
    "BraTS20_Validation_067 ---> 637\n",
    "BraTS20_Validation_088 ---> 0\n",
    "BraTS20_Validation_074 ---> 182\n",
    "BraTS20_Validation_083 ---> 277\n",
    "BraTS20_Validation_077 ---> 124\n",
    "BraTS20_Validation_099 ---> 366\n",
    "BraTS20_Validation_076 ---> 698\n",
    "BraTS20_Validation_087 ---> 12\n",
    "# discriminative on tc: 0.7264 -> 0.89753 -> 0.82024\n",
    "# favorizing on tc: 0.7264 -> 0.89753 -> 0.82022\n"
   ]
  },
  {
   "cell_type": "code",
   "execution_count": null,
   "metadata": {},
   "outputs": [],
   "source": [
    "# checkpoint 30\n",
    "BraTS20_Validation_069 ---> 1435\n",
    "BraTS20_Validation_103 ---> 13\n",
    "BraTS20_Validation_089 ---> 17\n",
    "BraTS20_Validation_091 ---> 0\n",
    "BraTS20_Validation_068 ---> 1\n",
    "BraTS20_Validation_085 ---> 0\n",
    "BraTS20_Validation_092 ---> 0\n",
    "BraTS20_Validation_072 ---> 956\n",
    "BraTS20_Validation_067 ---> 0\n",
    "BraTS20_Validation_088 ---> 0\n",
    "BraTS20_Validation_074 ---> 160\n",
    "BraTS20_Validation_083 ---> 438\n",
    "BraTS20_Validation_077 ---> 275\n",
    "BraTS20_Validation_099 ---> 364\n",
    "BraTS20_Validation_076 ---> 278\n",
    "BraTS20_Validation_087 ---> 7"
   ]
  },
  {
   "cell_type": "code",
   "execution_count": null,
   "metadata": {},
   "outputs": [],
   "source": [
    "# checkpoint 30 with augument when inference(**)\n",
    "BraTS20_Validation_083 ---> 205\n",
    "BraTS20_Validation_097 ***-> 63\n",
    "BraTS20_Validation_072 ---> 569\n",
    "BraTS20_Validation_069 ---> 954\n",
    "BraTS20_Validation_074 ---> 128\n",
    "BraTS20_Validation_091 ---> 0\n",
    "BraTS20_Validation_092 ---> 0\n",
    "BraTS20_Validation_077 ---> 110\n",
    "BraTS20_Validation_103 ---> 3\n",
    "BraTS20_Validation_099 ---> 300\n",
    "BraTS20_Validation_089 ---> 0\n",
    "BraTS20_Validation_085 ---> 0\n",
    "BraTS20_Validation_068 ---> 3\n",
    "BraTS20_Validation_088 ---> 0\n",
    "BraTS20_Validation_087 ---> 4\n",
    "BraTS20_Validation_076 ---> 134\n",
    "BraTS20_Validation_067 ---> 0"
   ]
  },
  {
   "cell_type": "code",
   "execution_count": null,
   "metadata": {},
   "outputs": [],
   "source": [
    "# checkpoint 33\n",
    "BraTS20_Validation_069 ---> 817\n",
    "BraTS20_Validation_103 ---> 64\n",
    "BraTS20_Validation_089 ---> 0\n",
    "BraTS20_Validation_091 ---> 0\n",
    "BraTS20_Validation_068 ---> 0\n",
    "BraTS20_Validation_085 ---> 0\n",
    "BraTS20_Validation_092 ---> 0\n",
    "BraTS20_Validation_072 ---> 787\n",
    "BraTS20_Validation_067 ---> 5\n",
    "BraTS20_Validation_088 ---> 0\n",
    "BraTS20_Validation_074 ---> 154\n",
    "BraTS20_Validation_083 ---> 217\n",
    "BraTS20_Validation_077 ---> 265\n",
    "BraTS20_Validation_099 ---> 443\n",
    "BraTS20_Validation_076 ---> 238\n",
    "BraTS20_Validation_087 ---> 5"
   ]
  },
  {
   "cell_type": "code",
   "execution_count": null,
   "metadata": {},
   "outputs": [],
   "source": [
    "# checkpoint 39\n",
    "BraTS20_Validation_069 ---> 1488\n",
    "BraTS20_Validation_103 ---> 12\n",
    "BraTS20_Validation_089 ---> 14\n",
    "BraTS20_Validation_091 ---> 0\n",
    "BraTS20_Validation_068 ---> 19\n",
    "BraTS20_Validation_085 ---> 6\n",
    "BraTS20_Validation_092 ---> 0\n",
    "BraTS20_Validation_072 ---> 1089\n",
    "BraTS20_Validation_067 ---> 17940\n",
    "BraTS20_Validation_088 ---> 0\n",
    "BraTS20_Validation_074 ---> 203\n",
    "BraTS20_Validation_083 ---> 748\n",
    "BraTS20_Validation_077 ---> 151\n",
    "BraTS20_Validation_099 ---> 411\n",
    "BraTS20_Validation_076 ---> 438\n",
    "BraTS20_Validation_087 ---> 4"
   ]
  },
  {
   "cell_type": "code",
   "execution_count": null,
   "metadata": {},
   "outputs": [],
   "source": [
    "#checkpoint 36\n",
    "BraTS20_Validation_069 ---> 1143\n",
    "BraTS20_Validation_103 ---> 8\n",
    "BraTS20_Validation_089 ---> 8\n",
    "BraTS20_Validation_091 ---> 0\n",
    "BraTS20_Validation_068 ---> 9\n",
    "BraTS20_Validation_085 ---> 1\n",
    "BraTS20_Validation_092 ---> 0\n",
    "BraTS20_Validation_072 ---> 872\n",
    "BraTS20_Validation_067 ---> 14909\n",
    "BraTS20_Validation_088 ---> 0\n",
    "BraTS20_Validation_074 ---> 157\n",
    "BraTS20_Validation_083 ---> 548\n",
    "BraTS20_Validation_077 ---> 99\n",
    "BraTS20_Validation_099 ---> 305\n",
    "BraTS20_Validation_076 ---> 327\n",
    "BraTS20_Validation_087 ---> 4"
   ]
  },
  {
   "cell_type": "code",
   "execution_count": null,
   "metadata": {},
   "outputs": [],
   "source": [
    "# checkpoint 42\n",
    "BraTS20_Validation_069 ---> 591\n",
    "BraTS20_Validation_103 ---> 0\n",
    "BraTS20_Validation_089 ---> 0\n",
    "BraTS20_Validation_091 ---> 0\n",
    "BraTS20_Validation_068 ---> 8\n",
    "BraTS20_Validation_085 ---> 52\n",
    "BraTS20_Validation_092 ---> 5\n",
    "BraTS20_Validation_072 ---> 186\n",
    "BraTS20_Validation_067 ---> 0\n",
    "BraTS20_Validation_088 ---> 0\n",
    "BraTS20_Validation_074 ---> 258\n",
    "BraTS20_Validation_083 ---> 0\n",
    "BraTS20_Validation_077 ---> 26\n",
    "BraTS20_Validation_099 ---> 52\n",
    "BraTS20_Validation_076 ---> 628\n",
    "BraTS20_Validation_087 ---> 32"
   ]
  },
  {
   "cell_type": "code",
   "execution_count": null,
   "metadata": {},
   "outputs": [],
   "source": [
    "# checkpoint 42 with augument when inference\n",
    "BraTS20_Validation_083 ---> 0\n",
    "BraTS20_Validation_072 ---> 169\n",
    "BraTS20_Validation_069 ---> 692\n",
    "BraTS20_Validation_074 ---> 248\n",
    "BraTS20_Validation_091 ---> 0\n",
    "BraTS20_Validation_092 ---> 0\n",
    "BraTS20_Validation_077 ---> 22\n",
    "BraTS20_Validation_103 ---> 0\n",
    "BraTS20_Validation_099 ---> 39\n",
    "BraTS20_Validation_089 ---> 0\n",
    "BraTS20_Validation_085 ---> 3\n",
    "BraTS20_Validation_068 ---> 4\n",
    "BraTS20_Validation_088 ---> 0\n",
    "BraTS20_Validation_087 ---> 21\n",
    "BraTS20_Validation_076 ---> 417\n",
    "BraTS20_Validation_067 ---> 0"
   ]
  },
  {
   "cell_type": "code",
   "execution_count": null,
   "metadata": {},
   "outputs": [],
   "source": [
    "#checkpoint 45\n",
    "BraTS20_Validation_069 ---> 1185\n",
    "BraTS20_Validation_103 ---> 128\n",
    "BraTS20_Validation_089 ---> 461\n",
    "BraTS20_Validation_091 ---> 0\n",
    "BraTS20_Validation_068 ---> 142\n",
    "BraTS20_Validation_085 ---> 111\n",
    "BraTS20_Validation_092 ---> 143\n",
    "BraTS20_Validation_072 ---> 890\n",
    "BraTS20_Validation_067 ---> 108\n",
    "BraTS20_Validation_088 ---> 64\n",
    "BraTS20_Validation_074 ---> 366\n",
    "BraTS20_Validation_083 ---> 2491\n",
    "BraTS20_Validation_077 ---> 317\n",
    "BraTS20_Validation_099 ---> 355\n",
    "BraTS20_Validation_076 ---> 730\n",
    "BraTS20_Validation_087 ---> 411"
   ]
  },
  {
   "cell_type": "code",
   "execution_count": null,
   "metadata": {},
   "outputs": [],
   "source": [
    "#checkpoint 51\n",
    "BraTS20_Validation_069 ---> 818\n",
    "BraTS20_Validation_103 ---> 59\n",
    "BraTS20_Validation_089 ---> 279\n",
    "BraTS20_Validation_091 ---> 0\n",
    "BraTS20_Validation_068 ---> 82\n",
    "BraTS20_Validation_085 ---> 44\n",
    "BraTS20_Validation_092 ---> 87\n",
    "BraTS20_Validation_072 ---> 647\n",
    "BraTS20_Validation_067 ---> 71\n",
    "BraTS20_Validation_088 ---> 39\n",
    "BraTS20_Validation_074 ---> 259\n",
    "BraTS20_Validation_083 ---> 1693\n",
    "BraTS20_Validation_077 ---> 192\n",
    "BraTS20_Validation_099 ---> 243\n",
    "BraTS20_Validation_076 ---> 454\n",
    "BraTS20_Validation_087 ---> 281"
   ]
  },
  {
   "cell_type": "code",
   "execution_count": null,
   "metadata": {},
   "outputs": [],
   "source": [
    "#checkpoint 51 with augumentation(**)\n",
    "BraTS20_Validation_083 ---> 624\n",
    "BraTS20_Validation_072 ---> 382\n",
    "BraTS20_Validation_069 ---> 1163\n",
    "BraTS20_Validation_074 ---> 91\n",
    "BraTS20_Validation_091 ---> 0\n",
    "BraTS20_Validation_092 ---> 0\n",
    "BraTS20_Validation_077 ---> 46\n",
    "BraTS20_Validation_103 ---> 0\n",
    "BraTS20_Validation_099 ---> 105\n",
    "BraTS20_Validation_089 ---> 0\n",
    "BraTS20_Validation_085 ---> 0\n",
    "BraTS20_Validation_068 ---> 0\n",
    "BraTS20_Validation_088 ---> 0\n",
    "BraTS20_Validation_087 ---> 3\n",
    "BraTS20_Validation_076 ---> 30\n",
    "BraTS20_Validation_067 ---> 0"
   ]
  },
  {
   "cell_type": "code",
   "execution_count": null,
   "metadata": {},
   "outputs": [],
   "source": [
    "# checkpoint 54\n",
    "BraTS20_Validation_069 ---> 68\n",
    "BraTS20_Validation_103 ---> 0\n",
    "BraTS20_Validation_089 ---> 0\n",
    "BraTS20_Validation_091 ---> 0\n",
    "BraTS20_Validation_068 ---> 0\n",
    "BraTS20_Validation_085 ---> 0\n",
    "BraTS20_Validation_092 ---> 0\n",
    "BraTS20_Validation_072 ---> 787\n",
    "BraTS20_Validation_067 ---> 0\n",
    "BraTS20_Validation_088 ---> 0\n",
    "BraTS20_Validation_074 ---> 53\n",
    "BraTS20_Validation_083 ---> 1249\n",
    "BraTS20_Validation_077 ---> 7\n",
    "BraTS20_Validation_099 ---> 264\n",
    "BraTS20_Validation_076 ---> 3\n",
    "BraTS20_Validation_087 ---> 1"
   ]
  },
  {
   "cell_type": "code",
   "execution_count": null,
   "metadata": {},
   "outputs": [],
   "source": [
    "#checkpoint 54 + augument\n",
    "BraTS20_Validation_083 ---> 1003\n",
    "BraTS20_Validation_072 ---> 625\n",
    "BraTS20_Validation_069 ---> 191\n",
    "BraTS20_Validation_074 ---> 57\n",
    "BraTS20_Validation_091 ---> 0\n",
    "BraTS20_Validation_092 ---> 0\n",
    "BraTS20_Validation_077 ---> 18\n",
    "BraTS20_Validation_103 ---> 0\n",
    "BraTS20_Validation_099 ---> 275\n",
    "BraTS20_Validation_089 ---> 0\n",
    "BraTS20_Validation_085 ---> 0\n",
    "BraTS20_Validation_068 ---> 0\n",
    "BraTS20_Validation_088 ---> 0\n",
    "BraTS20_Validation_087 ---> 1\n",
    "BraTS20_Validation_076 ---> 6\n",
    "BraTS20_Validation_067 ---> 0"
   ]
  },
  {
   "cell_type": "code",
   "execution_count": null,
   "metadata": {},
   "outputs": [],
   "source": [
    "#checkpoint 57\n",
    "BraTS20_Validation_069 ---> 124\n",
    "BraTS20_Validation_103 ---> 0\n",
    "BraTS20_Validation_089 ---> 50\n",
    "BraTS20_Validation_091 ---> 0\n",
    "BraTS20_Validation_068 ---> 17\n",
    "BraTS20_Validation_085 ---> 0\n",
    "BraTS20_Validation_092 ---> 0\n",
    "BraTS20_Validation_072 ---> 555\n",
    "BraTS20_Validation_067 ---> 3290\n",
    "BraTS20_Validation_088 ---> 0\n",
    "BraTS20_Validation_074 ---> 173\n",
    "BraTS20_Validation_083 ---> 259\n",
    "BraTS20_Validation_077 ---> 130\n",
    "BraTS20_Validation_099 ---> 210\n",
    "BraTS20_Validation_076 ---> 160\n",
    "BraTS20_Validation_087 ---> 4"
   ]
  },
  {
   "cell_type": "code",
   "execution_count": null,
   "metadata": {},
   "outputs": [],
   "source": [
    "#checkpoint 57 + augument\n",
    "BraTS20_Validation_083 ---> 473\n",
    "BraTS20_Validation_072 ---> 459\n",
    "BraTS20_Validation_069 ---> 456\n",
    "BraTS20_Validation_074 ---> 194\n",
    "BraTS20_Validation_091 ---> 0\n",
    "BraTS20_Validation_092 ---> 0\n",
    "BraTS20_Validation_077 ---> 158\n",
    "BraTS20_Validation_103 ---> 0\n",
    "BraTS20_Validation_099 ---> 296\n",
    "BraTS20_Validation_089 ---> 46\n",
    "BraTS20_Validation_085 ---> 0\n",
    "BraTS20_Validation_068 ---> 35\n",
    "BraTS20_Validation_088 ---> 0\n",
    "BraTS20_Validation_087 ---> 8\n",
    "BraTS20_Validation_076 ---> 288\n",
    "BraTS20_Validation_067 ---> 1092"
   ]
  },
  {
   "cell_type": "code",
   "execution_count": null,
   "metadata": {},
   "outputs": [],
   "source": [
    "# checkpoint 63\n",
    "BraTS20_Validation_069 ---> 445\n",
    "BraTS20_Validation_103 ---> 0\n",
    "BraTS20_Validation_089 ---> 16\n",
    "BraTS20_Validation_091 ---> 0\n",
    "BraTS20_Validation_068 ---> 0\n",
    "BraTS20_Validation_085 ---> 0\n",
    "BraTS20_Validation_092 ---> 0\n",
    "BraTS20_Validation_072 ---> 850\n",
    "BraTS20_Validation_067 ---> 0\n",
    "BraTS20_Validation_088 ---> 0\n",
    "BraTS20_Validation_074 ---> 116\n",
    "BraTS20_Validation_083 ---> 499\n",
    "BraTS20_Validation_077 ---> 126\n",
    "BraTS20_Validation_099 ---> 275\n",
    "BraTS20_Validation_076 ---> 106\n",
    "BraTS20_Validation_087 ---> 9"
   ]
  },
  {
   "cell_type": "code",
   "execution_count": null,
   "metadata": {},
   "outputs": [],
   "source": [
    "# checkpoint 63 + augument\n",
    "BraTS20_Validation_083 ---> 631\n",
    "BraTS20_Validation_072 ---> 647\n",
    "BraTS20_Validation_069 ---> 247\n",
    "BraTS20_Validation_074 ---> 108\n",
    "BraTS20_Validation_091 ---> 0\n",
    "BraTS20_Validation_092 ---> 0\n",
    "BraTS20_Validation_077 ---> 114\n",
    "BraTS20_Validation_103 ---> 0\n",
    "BraTS20_Validation_099 ---> 395\n",
    "BraTS20_Validation_089 ---> 14\n",
    "BraTS20_Validation_085 ---> 0\n",
    "BraTS20_Validation_068 ---> 0\n",
    "BraTS20_Validation_088 ---> 0\n",
    "BraTS20_Validation_087 ---> 12\n",
    "BraTS20_Validation_076 ---> 73\n",
    "BraTS20_Validation_067 ---> 0"
   ]
  },
  {
   "cell_type": "code",
   "execution_count": null,
   "metadata": {},
   "outputs": [],
   "source": [
    "#checkpoint 66\n",
    "BraTS20_Validation_069 ---> 821\n",
    "BraTS20_Validation_103 ---> 0\n",
    "BraTS20_Validation_089 ---> 0\n",
    "BraTS20_Validation_091 ---> 0\n",
    "BraTS20_Validation_068 ---> 0\n",
    "BraTS20_Validation_085 ---> 0\n",
    "BraTS20_Validation_092 ---> 0\n",
    "BraTS20_Validation_072 ---> 819\n",
    "BraTS20_Validation_067 ---> 0\n",
    "BraTS20_Validation_088 ---> 0\n",
    "BraTS20_Validation_074 ---> 116\n",
    "BraTS20_Validation_083 ---> 2619\n",
    "BraTS20_Validation_077 ---> 78\n",
    "BraTS20_Validation_099 ---> 294\n",
    "BraTS20_Validation_076 ---> 25\n",
    "BraTS20_Validation_087 ---> 10"
   ]
  },
  {
   "cell_type": "code",
   "execution_count": null,
   "metadata": {},
   "outputs": [],
   "source": [
    "#checkpoint 66 + augument(*)\n",
    "BraTS20_Validation_083 ---> 2640\n",
    "BraTS20_Validation_072 ---> 523\n",
    "BraTS20_Validation_069 ---> 499\n",
    "BraTS20_Validation_074 ---> 122\n",
    "BraTS20_Validation_091 ---> 0\n",
    "BraTS20_Validation_092 ---> 0\n",
    "BraTS20_Validation_077 ---> 69\n",
    "BraTS20_Validation_103 ---> 0\n",
    "BraTS20_Validation_099 ---> 288\n",
    "BraTS20_Validation_089 ---> 0\n",
    "BraTS20_Validation_085 ---> 0\n",
    "BraTS20_Validation_068 ---> 0\n",
    "BraTS20_Validation_088 ---> 0\n",
    "BraTS20_Validation_087 ---> 12\n",
    "BraTS20_Validation_076 ---> 23\n",
    "BraTS20_Validation_067 ---> 0"
   ]
  },
  {
   "cell_type": "code",
   "execution_count": null,
   "metadata": {},
   "outputs": [],
   "source": [
    "# checkpoint 69\n",
    "BraTS20_Validation_069 ---> 1737\n",
    "BraTS20_Validation_103 ---> 35\n",
    "BraTS20_Validation_089 ---> 18\n",
    "BraTS20_Validation_091 ---> 0\n",
    "BraTS20_Validation_068 ---> 46\n",
    "BraTS20_Validation_085 ---> 38\n",
    "BraTS20_Validation_092 ---> 0\n",
    "BraTS20_Validation_072 ---> 1157\n",
    "BraTS20_Validation_067 ---> 0\n",
    "BraTS20_Validation_088 ---> 0\n",
    "BraTS20_Validation_074 ---> 174\n",
    "BraTS20_Validation_083 ---> 705\n",
    "BraTS20_Validation_077 ---> 79\n",
    "BraTS20_Validation_099 ---> 91\n",
    "BraTS20_Validation_076 ---> 64\n",
    "BraTS20_Validation_087 ---> 28"
   ]
  },
  {
   "cell_type": "code",
   "execution_count": null,
   "metadata": {},
   "outputs": [],
   "source": [
    "# checkpoint 69 + aug\n",
    "BraTS20_Validation_083 ---> 468\n",
    "BraTS20_Validation_072 ---> 567\n",
    "BraTS20_Validation_069 ---> 1038\n",
    "BraTS20_Validation_074 ---> 122\n",
    "BraTS20_Validation_091 ---> 0\n",
    "BraTS20_Validation_092 ---> 0\n",
    "BraTS20_Validation_077 ---> 46\n",
    "BraTS20_Validation_103 ---> 0\n",
    "BraTS20_Validation_099 ---> 90\n",
    "BraTS20_Validation_089 ---> 8\n",
    "BraTS20_Validation_085 ---> 0\n",
    "BraTS20_Validation_068 ---> 37\n",
    "BraTS20_Validation_088 ---> 0\n",
    "BraTS20_Validation_087 ---> 17\n",
    "BraTS20_Validation_076 ---> 27\n",
    "BraTS20_Validation_067 ---> 0"
   ]
  },
  {
   "cell_type": "code",
   "execution_count": null,
   "metadata": {},
   "outputs": [],
   "source": [
    "# checkpoint 75\n",
    "BraTS20_Validation_069 ---> 1103\n",
    "BraTS20_Validation_103 ---> 25\n",
    "BraTS20_Validation_089 ---> 361\n",
    "BraTS20_Validation_091 ---> 0\n",
    "BraTS20_Validation_068 ---> 1\n",
    "BraTS20_Validation_085 ---> 0\n",
    "BraTS20_Validation_092 ---> 7\n",
    "BraTS20_Validation_072 ---> 610\n",
    "BraTS20_Validation_067 ---> 1780\n",
    "BraTS20_Validation_088 ---> 0\n",
    "BraTS20_Validation_074 ---> 158\n",
    "BraTS20_Validation_083 ---> 1546\n",
    "BraTS20_Validation_077 ---> 24\n",
    "BraTS20_Validation_099 ---> 392\n",
    "BraTS20_Validation_076 ---> 148\n",
    "BraTS20_Validation_087 ---> 12"
   ]
  },
  {
   "cell_type": "code",
   "execution_count": null,
   "metadata": {},
   "outputs": [],
   "source": [
    "# checkpoint 80\n",
    "BraTS20_Validation_069 ---> 1056\n",
    "BraTS20_Validation_103 ---> 0\n",
    "BraTS20_Validation_089 ---> 0\n",
    "BraTS20_Validation_091 ---> 0\n",
    "BraTS20_Validation_068 ---> 0\n",
    "BraTS20_Validation_085 ---> 0\n",
    "BraTS20_Validation_092 ---> 0\n",
    "BraTS20_Validation_072 ---> 750\n",
    "BraTS20_Validation_067 ---> 0\n",
    "BraTS20_Validation_088 ---> 0\n",
    "BraTS20_Validation_074 ---> 153\n",
    "BraTS20_Validation_083 ---> 321\n",
    "BraTS20_Validation_077 ---> 4\n",
    "BraTS20_Validation_099 ---> 426\n",
    "BraTS20_Validation_076 ---> 284\n",
    "BraTS20_Validation_087 ---> 4"
   ]
  },
  {
   "cell_type": "code",
   "execution_count": null,
   "metadata": {},
   "outputs": [],
   "source": [
    "#checkpoint 80 -> 90\n",
    "BraTS20_Validation_083 ---> 212\n",
    "BraTS20_Validation_072 ---> 130\n",
    "BraTS20_Validation_069 ---> 448\n",
    "BraTS20_Validation_074 ---> 118\n",
    "BraTS20_Validation_091 ---> 0\n",
    "BraTS20_Validation_092 ---> 0\n",
    "BraTS20_Validation_077 ---> 18\n",
    "BraTS20_Validation_103 ---> 0\n",
    "BraTS20_Validation_099 ---> 263\n",
    "BraTS20_Validation_089 ---> 0\n",
    "BraTS20_Validation_085 ---> 0\n",
    "BraTS20_Validation_068 ---> 0\n",
    "BraTS20_Validation_088 ---> 0\n",
    "BraTS20_Validation_087 ---> 13\n",
    "BraTS20_Validation_076 ---> 33\n",
    "BraTS20_Validation_067 ---> 0"
   ]
  },
  {
   "cell_type": "code",
   "execution_count": null,
   "metadata": {},
   "outputs": [],
   "source": [
    "# final ensemble\n",
    "BraTS20_Validation_083 ---> 0\n",
    "BraTS20_Validation_072 ---> 69\n",
    "BraTS20_Validation_069 ---> 386\n",
    "BraTS20_Validation_074 ---> 127\n",
    "BraTS20_Validation_091 ---> 0\n",
    "BraTS20_Validation_092 ---> 0\n",
    "BraTS20_Validation_077 ---> 6\n",
    "BraTS20_Validation_103 ---> 0\n",
    "BraTS20_Validation_099 ---> 107\n",
    "BraTS20_Validation_089 ---> 49\n",
    "BraTS20_Validation_085 ---> 2\n",
    "BraTS20_Validation_068 ---> 21\n",
    "BraTS20_Validation_088 ---> 0\n",
    "BraTS20_Validation_087 ---> 15\n",
    "BraTS20_Validation_076 ---> 121\n",
    "BraTS20_Validation_067 ---> 0"
   ]
  }
 ],
 "metadata": {
  "kernelspec": {
   "display_name": "Python 3",
   "language": "python",
   "name": "python3"
  },
  "language_info": {
   "codemirror_mode": {
    "name": "ipython",
    "version": 3
   },
   "file_extension": ".py",
   "mimetype": "text/x-python",
   "name": "python",
   "nbconvert_exporter": "python",
   "pygments_lexer": "ipython3",
   "version": "3.6.10"
  }
 },
 "nbformat": 4,
 "nbformat_minor": 4
}
